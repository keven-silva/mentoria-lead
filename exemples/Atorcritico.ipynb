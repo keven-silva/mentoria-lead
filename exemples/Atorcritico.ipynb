{
 "cells": [
  {
   "cell_type": "code",
   "execution_count": 1,
   "metadata": {},
   "outputs": [
    {
     "name": "stderr",
     "output_type": "stream",
     "text": [
      "2022-12-03 00:53:01.092066: I tensorflow/core/platform/cpu_feature_guard.cc:193] This TensorFlow binary is optimized with oneAPI Deep Neural Network Library (oneDNN) to use the following CPU instructions in performance-critical operations:  AVX2 FMA\n",
      "To enable them in other operations, rebuild TensorFlow with the appropriate compiler flags.\n",
      "2022-12-03 00:53:01.180662: W tensorflow/compiler/xla/stream_executor/platform/default/dso_loader.cc:64] Could not load dynamic library 'libcudart.so.11.0'; dlerror: libcudart.so.11.0: cannot open shared object file: No such file or directory\n",
      "2022-12-03 00:53:01.180677: I tensorflow/compiler/xla/stream_executor/cuda/cudart_stub.cc:29] Ignore above cudart dlerror if you do not have a GPU set up on your machine.\n",
      "2022-12-03 00:53:01.765024: W tensorflow/compiler/xla/stream_executor/platform/default/dso_loader.cc:64] Could not load dynamic library 'libnvinfer.so.7'; dlerror: libnvinfer.so.7: cannot open shared object file: No such file or directory\n",
      "2022-12-03 00:53:01.765061: W tensorflow/compiler/xla/stream_executor/platform/default/dso_loader.cc:64] Could not load dynamic library 'libnvinfer_plugin.so.7'; dlerror: libnvinfer_plugin.so.7: cannot open shared object file: No such file or directory\n",
      "2022-12-03 00:53:01.765066: W tensorflow/compiler/tf2tensorrt/utils/py_utils.cc:38] TF-TRT Warning: Cannot dlopen some TensorRT libraries. If you would like to use Nvidia GPU with TensorRT, please make sure the missing libraries mentioned above are installed properly.\n"
     ]
    }
   ],
   "source": [
    "import collections \n",
    "import gymnasium as gym\n",
    "import numpy as np\n",
    "import statistics\n",
    "import tensorflow as tf\n",
    "import tensorflow.keras.layers as layers\n",
    "import tqdm\n",
    "\n",
    "# ambiente \n",
    "env = gym.make('CartPole-v1')\n",
    "\n",
    "# seed\n",
    "seed= 42\n",
    "tf.random.set_seed(seed)\n",
    "np.random.seed(seed)\n",
    "\n",
    "esp=np.finfo(np.float32).eps.item()\n"
   ]
  },
  {
   "cell_type": "code",
   "execution_count": 2,
   "metadata": {},
   "outputs": [],
   "source": [
    "class AtorCritico(tf.keras.Model):\n",
    "    def __init__(\n",
    "        self,\n",
    "        num_actions:int,\n",
    "        num_hidden_units:int):\n",
    "        super().__init__()\n",
    "\n",
    "        self.common = layers.Dense(num_hidden_units, activation='relu')\n",
    "        self.ator = layers.Dense(num_actions)\n",
    "        self.critico =layers.Dense(1)\n",
    "\n",
    "    def call(self, inputs:tf.Tensor) -> tuple[tf.Tensor,tf.Tensor]:\n",
    "        x= self.common(inputs)\n",
    "        return self.ator(x), self.critico(x)\n",
    "    "
   ]
  },
  {
   "cell_type": "code",
   "execution_count": 3,
   "metadata": {},
   "outputs": [
    {
     "name": "stderr",
     "output_type": "stream",
     "text": [
      "2022-12-03 00:53:02.482842: W tensorflow/compiler/xla/stream_executor/platform/default/dso_loader.cc:64] Could not load dynamic library 'libcuda.so.1'; dlerror: libcuda.so.1: cannot open shared object file: No such file or directory\n",
      "2022-12-03 00:53:02.482869: W tensorflow/compiler/xla/stream_executor/cuda/cuda_driver.cc:265] failed call to cuInit: UNKNOWN ERROR (303)\n",
      "2022-12-03 00:53:02.482883: I tensorflow/compiler/xla/stream_executor/cuda/cuda_diagnostics.cc:156] kernel driver does not appear to be running on this host (keven-b4dluck): /proc/driver/nvidia/version does not exist\n",
      "2022-12-03 00:53:02.483068: I tensorflow/core/platform/cpu_feature_guard.cc:193] This TensorFlow binary is optimized with oneAPI Deep Neural Network Library (oneDNN) to use the following CPU instructions in performance-critical operations:  AVX2 FMA\n",
      "To enable them in other operations, rebuild TensorFlow with the appropriate compiler flags.\n"
     ]
    }
   ],
   "source": [
    "num_actions = env.action_space.n\n",
    "num_hidden_units=128\n",
    "\n",
    "model=AtorCritico(num_actions,num_hidden_units)"
   ]
  },
  {
   "cell_type": "code",
   "execution_count": 4,
   "metadata": {},
   "outputs": [],
   "source": [
    "def env_steps(action: np.ndarray)-> tuple[np.ndarray,np.ndarray,np.ndarray]:\n",
    "    estado, recompenca, final, truncado, info=env.step(action)\n",
    "    return (estado.astype(np.float32), np.array(recompenca, np.int32), np.array(final, np.int32))\n",
    "\n",
    "def tf_env_steps(action: tf.Tensor)-> list[tf.Tensor]:\n",
    "    return tf.numpy_function(env_steps, [action],[tf.float32, tf.int32, tf.int32])"
   ]
  },
  {
   "cell_type": "code",
   "execution_count": 5,
   "metadata": {},
   "outputs": [],
   "source": [
    "def rodar_ep(initial_state:tf.Tensor,\n",
    "    model: tf.keras.Model,\n",
    "    max_steps:int)-> tuple[tf.Tensor,tf.Tensor,tf.Tensor ]:\n",
    "\n",
    "    acao_probs= tf.TensorArray(dtype=tf.float32,size=0, dynamic_size=True)\n",
    "    valores= tf.TensorArray(dtype=tf.float32,size=0, dynamic_size=True)\n",
    "    recompencas= tf.TensorArray(dtype=tf.int32,size=0, dynamic_size=True)\n",
    "\n",
    "    initial_state_shape=initial_state.shape\n",
    "    estado=initial_state\n",
    "\n",
    "    for t in tf.range(max_steps):\n",
    "        estado=tf.expand_dims(estado, 0)\n",
    "\n",
    "        action_logists_t, value =model(estado)\n",
    "\n",
    "        acao= tf.random.categorical(action_logists_t, 1 )[0,0]\n",
    "        acao_probs_t= tf.nn.softmax(action_logists_t)\n",
    "\n",
    "        valores =valores.write(t, tf.squeeze(value))\n",
    "\n",
    "        acao_probs= acao_probs.write(t, acao_probs_t[0, acao])\n",
    "\n",
    "        estado, recompenca, final =tf_env_steps(acao)\n",
    "        estado.set_shape(initial_state_shape)\n",
    "\n",
    "        recompencas=recompencas.write(t,recompenca)\n",
    "\n",
    "        if tf.cast(final, tf.bool):\n",
    "            break\n",
    "    acoes_prob=acao_probs.stack()\n",
    "    valores= valores.stack()\n",
    "    recompencas= recompencas.stack()\n",
    "\n",
    "    return acoes_prob,valores,recompencas"
   ]
  },
  {
   "cell_type": "code",
   "execution_count": 6,
   "metadata": {},
   "outputs": [],
   "source": [
    "def receber_valor_esperado(\n",
    "    recompencas: tf.Tensor,\n",
    "    gamma: float,\n",
    "    standardize: bool=True\n",
    ")-> tf.Tensor:\n",
    "    n=tf.shape(recompencas)[0]\n",
    "    returns= tf.TensorArray(dtype=tf.float32, size=n)\n",
    "\n",
    "    recompencas= tf.cast(recompencas[::-1], dtype=tf.float32)\n",
    "    soma_descontada= tf.constant(0.0)\n",
    "    soma_descontada_shape=soma_descontada.shape\n",
    "    for i in tf.range(n):\n",
    "        recompenca=recompencas[i]\n",
    "        soma_descontada= recompenca+gamma*soma_descontada\n",
    "        soma_descontada.set_shape(soma_descontada_shape)\n",
    "        returns= returns.write(i, soma_descontada)\n",
    "    returns= returns.stack()[::-1]\n",
    "    if standardize:\n",
    "        returns= ((returns-tf.math.reduce_mean(returns))/\n",
    "        (tf.math.reduce_std(returns)+esp))\n",
    "    return returns"
   ]
  },
  {
   "cell_type": "code",
   "execution_count": 7,
   "metadata": {},
   "outputs": [],
   "source": [
    "huber_loss= tf.keras.losses.Huber(reduction=tf.keras.losses.Reduction.SUM)\n",
    "\n",
    "def computar_perdas(\n",
    "    action_prob:tf.Tensor,\n",
    "    valores: tf.Tensor,\n",
    "    returns: tf.Tensor\n",
    ")-> tf.Tensor:\n",
    "    vantagem= returns-valores\n",
    "\n",
    "    action_log_prob=tf.math.log(action_prob)\n",
    "    ator_loss= -tf.math.reduce_sum(action_log_prob*vantagem)\n",
    "\n",
    "    critico_loss= huber_loss(valores,returns)\n",
    "\n",
    "    return ator_loss+critico_loss"
   ]
  },
  {
   "cell_type": "code",
   "execution_count": 8,
   "metadata": {},
   "outputs": [],
   "source": [
    "otimizador= tf.keras.optimizers.Adam(learning_rate=0.01)\n",
    "\n",
    "@tf.function\n",
    "def train_step(\n",
    "    initial_state: tf.Tensor,\n",
    "    model: tf.keras.Model,\n",
    "    otimizador: tf.keras.optimizers.Optimizer,\n",
    "    gamma:float,\n",
    "    num_max_steps_por_ep:int)-> tf.Tensor:\n",
    "    with tf.GradientTape() as tape:\n",
    "        acoes_prob, valores,recompencas= rodar_ep(initial_state, model,num_max_steps_por_ep)\n",
    "\n",
    "        retornos= receber_valor_esperado(recompencas, gamma)\n",
    "\n",
    "        acoes_prob, valores, retornos=[tf.expand_dims(x,1) for x in [acoes_prob, valores, retornos]]\n",
    "\n",
    "        perda= computar_perdas(acoes_prob, valores, retornos)\n",
    "    grads= tape.gradient(perda, model.trainable_variables)\n",
    "\n",
    "    otimizador.apply_gradients(zip(grads, model.trainable_variables))\n",
    "\n",
    "    recompenca_do_ep=tf.math.reduce_sum(recompencas)\n",
    "\n",
    "    return recompenca_do_ep"
   ]
  },
  {
   "cell_type": "code",
   "execution_count": 13,
   "metadata": {},
   "outputs": [
    {
     "name": "stderr",
     "output_type": "stream",
     "text": [
      "  0%|          | 0/10000 [00:00<?, ?it/s]"
     ]
    },
    {
     "name": "stdout",
     "output_type": "stream",
     "text": [
      "WARNING:tensorflow:Tensor._shape is private, use Tensor.shape instead. Tensor._shape will eventually be removed.\n",
      "WARNING:tensorflow:Tensor._shape is private, use Tensor.shape instead. Tensor._shape will eventually be removed.\n"
     ]
    },
    {
     "name": "stderr",
     "output_type": "stream",
     "text": [
      "  2%|▏         | 210/10000 [01:48<1:24:39,  1.93it/s, recompanca_do_ep=500, recompenca_rodar=477]"
     ]
    },
    {
     "name": "stdout",
     "output_type": "stream",
     "text": [
      "\n",
      " EP:210 \n",
      " recompanca media 477.09\n"
     ]
    },
    {
     "name": "stderr",
     "output_type": "stream",
     "text": [
      "\n"
     ]
    }
   ],
   "source": [
    "min_ep=100\n",
    "max_ep= 10000\n",
    "max_steps_per_ep=500\n",
    "\n",
    "limiar_de_recompenca=475\n",
    "recompenca_rodar=0\n",
    "\n",
    "gamma=.99\n",
    "\n",
    "recompancas_do_ep: collections.deque=collections.deque(maxlen=min_ep)\n",
    "\n",
    "t= tqdm.trange(max_ep)\n",
    "for i in t:\n",
    "    estado_inicial, info = env.reset()\n",
    "    estado_inicial= tf.constant(estado_inicial, dtype=tf.float32)\n",
    "    recompanca_do_ep= int(train_step(\n",
    "        estado_inicial,model, otimizador, gamma, max_steps_per_ep)\n",
    "    )\n",
    "\n",
    "    recompancas_do_ep.append(recompanca_do_ep)\n",
    "    recompenca_rodar= statistics.mean(recompancas_do_ep)\n",
    "\n",
    "    t.set_postfix(recompanca_do_ep=recompanca_do_ep, recompenca_rodar=recompenca_rodar)\n",
    "    if recompenca_rodar> limiar_de_recompenca and i >min_ep:\n",
    "        break\n",
    "print(f'\\n EP:{i} \\n recompanca media {recompenca_rodar:.2f}')"
   ]
  },
  {
   "cell_type": "code",
   "execution_count": 10,
   "metadata": {},
   "outputs": [],
   "source": [
    "from IPython import  display as ipythondisplay\n",
    "from PIL import Image\n",
    "\n",
    "render_env = gym.make('CartPole-v1', render_mode='rgb_array')\n",
    "\n",
    "def render_ep(env: gym.Env, model: tf.keras.Model, max_steps:int):\n",
    "    state, info= render_env.reset()\n",
    "    state - tf.constant(state, dtype= tf.float32)\n",
    "    screen= render_env.render()\n",
    "    images= [Image.fromarray(screen)]\n",
    "\n",
    "    for i in range(1, max_steps+1):\n",
    "        state= tf.expand_dims(state, 0)\n",
    "        action_probs, _ = model(state)\n",
    "        action= np.argmax(np.squeeze( action_probs))\n",
    "\n",
    "        state, recompanca, final, truncado, info = render_env.step(action)\n",
    "        state= tf.constant(state,dtype=tf.float32)\n",
    "\n",
    "        if i%10==0:\n",
    "            screen= render_env.render()\n",
    "            images.append(Image.fromarray(screen))\n",
    "\n",
    "        if final:\n",
    "            break\n",
    "    return images\n"
   ]
  },
  {
   "cell_type": "code",
   "execution_count": 11,
   "metadata": {},
   "outputs": [],
   "source": [
    "\n",
    "images= render_ep(env, model, max_ep) \n",
    "\n",
    "images[0].save('imagem.gif',save_all=True, append_images=images[1:],loop=0, duration=1)\n"
   ]
  }
 ],
 "metadata": {
  "kernelspec": {
   "display_name": "Python 3.10.6 ('mentoria-lead-bqopYCSr-py3.10')",
   "language": "python",
   "name": "python3"
  },
  "language_info": {
   "codemirror_mode": {
    "name": "ipython",
    "version": 3
   },
   "file_extension": ".py",
   "mimetype": "text/x-python",
   "name": "python",
   "nbconvert_exporter": "python",
   "pygments_lexer": "ipython3",
   "version": "3.10.6"
  },
  "orig_nbformat": 4,
  "vscode": {
   "interpreter": {
    "hash": "5f63aefcf01ff4aef1c3360c6601baebbb15168efd077b0a5037f02c28701734"
   }
  }
 },
 "nbformat": 4,
 "nbformat_minor": 2
}
