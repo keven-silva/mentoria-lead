{
  "cells": [
    {
      "cell_type": "markdown",
      "metadata": {
        "id": "bFN5lg2YH3pw"
      },
      "source": [
        "## 1. Imports"
      ]
    },
    {
      "cell_type": "code",
      "execution_count": 195,
      "metadata": {
        "colab": {
          "base_uri": "https://localhost:8080/"
        },
        "id": "RFHp2FTWH3pw",
        "outputId": "febd1a55-bead-4332-9298-9eb70f83d083"
      },
      "outputs": [
        {
          "data": {
            "text/plain": [
              "5.0"
            ]
          },
          "execution_count": 195,
          "metadata": {},
          "output_type": "execute_result"
        }
      ],
      "source": [
        "# 'generic import' of math module\n",
        "import math\n",
        "math.sqrt(25)"
      ]
    },
    {
      "cell_type": "code",
      "execution_count": 196,
      "metadata": {
        "colab": {
          "base_uri": "https://localhost:8080/"
        },
        "id": "iakGZwqqH3px",
        "outputId": "805d4d2d-fcf5-4864-eb5c-8a6457d4dc11"
      },
      "outputs": [
        {
          "data": {
            "text/plain": [
              "5.0"
            ]
          },
          "execution_count": 196,
          "metadata": {},
          "output_type": "execute_result"
        }
      ],
      "source": [
        "# import a function\n",
        "from math import sqrt\n",
        "sqrt(25)    # no longer have to reference the module"
      ]
    },
    {
      "cell_type": "code",
      "execution_count": 197,
      "metadata": {
        "collapsed": true,
        "id": "QdOZFfbZH3px"
      },
      "outputs": [],
      "source": [
        "# import multiple functions at once\n",
        "from math import cos, floor"
      ]
    },
    {
      "cell_type": "code",
      "execution_count": 198,
      "metadata": {
        "collapsed": true,
        "id": "i66a0iKsH3px"
      },
      "outputs": [],
      "source": [
        "# import all functions in a module (generally discouraged)\n",
        "from csv import *"
      ]
    },
    {
      "cell_type": "code",
      "execution_count": 199,
      "metadata": {
        "collapsed": true,
        "id": "JdPHgObTH3px"
      },
      "outputs": [],
      "source": [
        "# define an alias\n",
        "import datetime as dt"
      ]
    },
    {
      "cell_type": "code",
      "execution_count": 200,
      "metadata": {
        "colab": {
          "base_uri": "https://localhost:8080/"
        },
        "id": "sJc6bgbDH3py",
        "outputId": "afbf6682-4349-430f-9b26-f4aaca68bf2b"
      },
      "outputs": [
        {
          "name": "stdout",
          "output_type": "stream",
          "text": [
            "['__doc__', '__loader__', '__name__', '__package__', '__spec__', 'acos', 'acosh', 'asin', 'asinh', 'atan', 'atan2', 'atanh', 'ceil', 'copysign', 'cos', 'cosh', 'degrees', 'e', 'erf', 'erfc', 'exp', 'expm1', 'fabs', 'factorial', 'floor', 'fmod', 'frexp', 'fsum', 'gamma', 'gcd', 'hypot', 'inf', 'isclose', 'isfinite', 'isinf', 'isnan', 'ldexp', 'lgamma', 'log', 'log10', 'log1p', 'log2', 'modf', 'nan', 'pi', 'pow', 'radians', 'remainder', 'sin', 'sinh', 'sqrt', 'tan', 'tanh', 'tau', 'trunc']\n"
          ]
        }
      ],
      "source": [
        "# show all functions in math module\n",
        "print(dir(math))"
      ]
    },
    {
      "cell_type": "markdown",
      "metadata": {
        "id": "WhFx-YW1H3py"
      },
      "source": [
        "[<a href=\"#Python-Quick-Reference-by-Data-School\">Back to top</a>]"
      ]
    },
    {
      "cell_type": "markdown",
      "metadata": {
        "id": "ZNdLXdrUH3py"
      },
      "source": [
        "## 2. Data Types\n",
        "\n",
        "**Determine the type of an object:**"
      ]
    },
    {
      "cell_type": "code",
      "execution_count": 201,
      "metadata": {
        "colab": {
          "base_uri": "https://localhost:8080/"
        },
        "id": "ME1_nz3fH3py",
        "outputId": "4804dde9-de27-4ca9-b497-c1af12ea6f27"
      },
      "outputs": [
        {
          "data": {
            "text/plain": [
              "int"
            ]
          },
          "execution_count": 201,
          "metadata": {},
          "output_type": "execute_result"
        }
      ],
      "source": [
        "type(2)"
      ]
    },
    {
      "cell_type": "code",
      "execution_count": 202,
      "metadata": {
        "colab": {
          "base_uri": "https://localhost:8080/"
        },
        "id": "_Tf95OizH3py",
        "outputId": "5b0a2bed-5f95-4564-a99c-e915f5f89a03"
      },
      "outputs": [
        {
          "data": {
            "text/plain": [
              "float"
            ]
          },
          "execution_count": 202,
          "metadata": {},
          "output_type": "execute_result"
        }
      ],
      "source": [
        "type(2.0)"
      ]
    },
    {
      "cell_type": "code",
      "execution_count": 203,
      "metadata": {
        "colab": {
          "base_uri": "https://localhost:8080/"
        },
        "id": "HPpYsWqDH3pz",
        "outputId": "34b64d67-d696-41a4-9749-156deebbe015"
      },
      "outputs": [
        {
          "data": {
            "text/plain": [
              "str"
            ]
          },
          "execution_count": 203,
          "metadata": {},
          "output_type": "execute_result"
        }
      ],
      "source": [
        "type('two')"
      ]
    },
    {
      "cell_type": "code",
      "execution_count": 204,
      "metadata": {
        "colab": {
          "base_uri": "https://localhost:8080/"
        },
        "id": "hY_Ug3cRH3pz",
        "outputId": "e7e85aae-2904-406f-e718-8c66a4300e37"
      },
      "outputs": [
        {
          "data": {
            "text/plain": [
              "bool"
            ]
          },
          "execution_count": 204,
          "metadata": {},
          "output_type": "execute_result"
        }
      ],
      "source": [
        "type(True)"
      ]
    },
    {
      "cell_type": "code",
      "execution_count": 205,
      "metadata": {
        "colab": {
          "base_uri": "https://localhost:8080/"
        },
        "id": "k6sJMJvyH3pz",
        "outputId": "3a5f3a66-f83f-4cea-eb0d-dee8df025d00"
      },
      "outputs": [
        {
          "data": {
            "text/plain": [
              "NoneType"
            ]
          },
          "execution_count": 205,
          "metadata": {},
          "output_type": "execute_result"
        }
      ],
      "source": [
        "type(None)"
      ]
    },
    {
      "cell_type": "markdown",
      "metadata": {
        "id": "YO1vTsFIH3pz"
      },
      "source": [
        "**Check if an object is of a given type:**"
      ]
    },
    {
      "cell_type": "code",
      "execution_count": 206,
      "metadata": {
        "colab": {
          "base_uri": "https://localhost:8080/"
        },
        "id": "lETf78uEH3pz",
        "outputId": "9e565590-9a63-499b-ab3f-65d186f8f5be"
      },
      "outputs": [
        {
          "data": {
            "text/plain": [
              "False"
            ]
          },
          "execution_count": 206,
          "metadata": {},
          "output_type": "execute_result"
        }
      ],
      "source": [
        "isinstance(2.0, int)"
      ]
    },
    {
      "cell_type": "code",
      "execution_count": 207,
      "metadata": {
        "colab": {
          "base_uri": "https://localhost:8080/"
        },
        "id": "GYKNacJLH3p0",
        "outputId": "66005119-4d8b-469a-fbac-088fe82f2fbf"
      },
      "outputs": [
        {
          "data": {
            "text/plain": [
              "True"
            ]
          },
          "execution_count": 207,
          "metadata": {},
          "output_type": "execute_result"
        }
      ],
      "source": [
        "isinstance(2.0, (int, float))"
      ]
    },
    {
      "cell_type": "markdown",
      "metadata": {
        "id": "mmudaz0AH3p0"
      },
      "source": [
        "**Convert an object to a given type:**"
      ]
    },
    {
      "cell_type": "code",
      "execution_count": 208,
      "metadata": {
        "colab": {
          "base_uri": "https://localhost:8080/"
        },
        "id": "Gg9DhvRZH3p0",
        "outputId": "fb7abdf1-4b0c-4e99-f227-1299830ca6e3"
      },
      "outputs": [
        {
          "data": {
            "text/plain": [
              "2.0"
            ]
          },
          "execution_count": 208,
          "metadata": {},
          "output_type": "execute_result"
        }
      ],
      "source": [
        "float(2)"
      ]
    },
    {
      "cell_type": "code",
      "execution_count": 209,
      "metadata": {
        "colab": {
          "base_uri": "https://localhost:8080/"
        },
        "id": "iVe1aocHH3p0",
        "outputId": "847e58f4-fe98-4630-a1c0-d0e50a3404e5"
      },
      "outputs": [
        {
          "data": {
            "text/plain": [
              "2"
            ]
          },
          "execution_count": 209,
          "metadata": {},
          "output_type": "execute_result"
        }
      ],
      "source": [
        "int(2.9)"
      ]
    },
    {
      "cell_type": "code",
      "execution_count": 210,
      "metadata": {
        "colab": {
          "base_uri": "https://localhost:8080/",
          "height": 35
        },
        "id": "xFuOoHWcH3p0",
        "outputId": "0e002e4d-3378-4296-d24c-16c5eeb9b97b"
      },
      "outputs": [
        {
          "data": {
            "application/vnd.google.colaboratory.intrinsic+json": {
              "type": "string"
            },
            "text/plain": [
              "'2.9'"
            ]
          },
          "execution_count": 210,
          "metadata": {},
          "output_type": "execute_result"
        }
      ],
      "source": [
        "str(2.9)"
      ]
    },
    {
      "cell_type": "markdown",
      "metadata": {
        "id": "YfZBp3mJH3p1"
      },
      "source": [
        "**Zero, `None`, and empty containers are converted to `False`:**"
      ]
    },
    {
      "cell_type": "code",
      "execution_count": 211,
      "metadata": {
        "colab": {
          "base_uri": "https://localhost:8080/"
        },
        "id": "fzS6KTXVH3p1",
        "outputId": "cb4c4149-7031-4cd9-e4c9-356f23129108"
      },
      "outputs": [
        {
          "data": {
            "text/plain": [
              "False"
            ]
          },
          "execution_count": 211,
          "metadata": {},
          "output_type": "execute_result"
        }
      ],
      "source": [
        "bool(0)"
      ]
    },
    {
      "cell_type": "code",
      "execution_count": 212,
      "metadata": {
        "colab": {
          "base_uri": "https://localhost:8080/"
        },
        "id": "zhQerHPXH3p1",
        "outputId": "f4b89622-1b4b-4468-b52a-683dfc609de6"
      },
      "outputs": [
        {
          "data": {
            "text/plain": [
              "False"
            ]
          },
          "execution_count": 212,
          "metadata": {},
          "output_type": "execute_result"
        }
      ],
      "source": [
        "bool(None)"
      ]
    },
    {
      "cell_type": "code",
      "execution_count": 213,
      "metadata": {
        "colab": {
          "base_uri": "https://localhost:8080/"
        },
        "id": "c-1OkGJvH3p1",
        "outputId": "72c8eecb-83ec-49b2-fa5c-a1efac34a564"
      },
      "outputs": [
        {
          "data": {
            "text/plain": [
              "False"
            ]
          },
          "execution_count": 213,
          "metadata": {},
          "output_type": "execute_result"
        }
      ],
      "source": [
        "bool('')    # empty string"
      ]
    },
    {
      "cell_type": "code",
      "execution_count": 214,
      "metadata": {
        "colab": {
          "base_uri": "https://localhost:8080/"
        },
        "id": "4O3NlL1UH3p1",
        "outputId": "26cca4c6-2a00-4b8f-c18d-afef68b1b256"
      },
      "outputs": [
        {
          "data": {
            "text/plain": [
              "False"
            ]
          },
          "execution_count": 214,
          "metadata": {},
          "output_type": "execute_result"
        }
      ],
      "source": [
        "bool([])    # empty list"
      ]
    },
    {
      "cell_type": "code",
      "execution_count": 215,
      "metadata": {
        "colab": {
          "base_uri": "https://localhost:8080/"
        },
        "id": "9XtuVBAdH3p1",
        "outputId": "437c05d1-eb9c-4009-bbd4-aa9ceb6d775a"
      },
      "outputs": [
        {
          "data": {
            "text/plain": [
              "False"
            ]
          },
          "execution_count": 215,
          "metadata": {},
          "output_type": "execute_result"
        }
      ],
      "source": [
        "bool({})    # empty dictionary"
      ]
    },
    {
      "cell_type": "markdown",
      "metadata": {
        "id": "q9_gsUikH3p2"
      },
      "source": [
        "**Non-empty containers and non-zeros are converted to `True`:**"
      ]
    },
    {
      "cell_type": "code",
      "execution_count": 216,
      "metadata": {
        "colab": {
          "base_uri": "https://localhost:8080/"
        },
        "id": "tTKb6tdBH3p2",
        "outputId": "363251f6-fc26-40be-af3c-925688e22b27"
      },
      "outputs": [
        {
          "data": {
            "text/plain": [
              "True"
            ]
          },
          "execution_count": 216,
          "metadata": {},
          "output_type": "execute_result"
        }
      ],
      "source": [
        "bool(2)"
      ]
    },
    {
      "cell_type": "code",
      "execution_count": 217,
      "metadata": {
        "colab": {
          "base_uri": "https://localhost:8080/"
        },
        "id": "sIN72awxH3p2",
        "outputId": "71ebe5fb-bb9b-4bbf-b144-b889f648e808"
      },
      "outputs": [
        {
          "data": {
            "text/plain": [
              "True"
            ]
          },
          "execution_count": 217,
          "metadata": {},
          "output_type": "execute_result"
        }
      ],
      "source": [
        "bool('two')"
      ]
    },
    {
      "cell_type": "code",
      "execution_count": 218,
      "metadata": {
        "colab": {
          "base_uri": "https://localhost:8080/"
        },
        "id": "FYZ-YP-jH3p2",
        "outputId": "ed71e74c-583c-47dc-9d27-b67a127dccc8"
      },
      "outputs": [
        {
          "data": {
            "text/plain": [
              "True"
            ]
          },
          "execution_count": 218,
          "metadata": {},
          "output_type": "execute_result"
        }
      ],
      "source": [
        "bool([2])"
      ]
    },
    {
      "cell_type": "markdown",
      "metadata": {
        "id": "FmjX5pAvH3p2"
      },
      "source": [
        "[<a href=\"#Python-Quick-Reference-by-Data-School\">Back to top</a>]"
      ]
    },
    {
      "cell_type": "markdown",
      "metadata": {
        "id": "o3rcfuBzH3p2"
      },
      "source": [
        "## 3. Math"
      ]
    },
    {
      "cell_type": "code",
      "execution_count": 219,
      "metadata": {
        "colab": {
          "base_uri": "https://localhost:8080/"
        },
        "id": "wq_yOhEcH3p2",
        "outputId": "a705f515-0f8b-49a8-b675-76bd785538b2"
      },
      "outputs": [
        {
          "data": {
            "text/plain": [
              "14"
            ]
          },
          "execution_count": 219,
          "metadata": {},
          "output_type": "execute_result"
        }
      ],
      "source": [
        "10 + 4"
      ]
    },
    {
      "cell_type": "code",
      "execution_count": 220,
      "metadata": {
        "colab": {
          "base_uri": "https://localhost:8080/"
        },
        "id": "XEAydlQ5H3p3",
        "outputId": "84174e68-5566-40fa-8fd5-a8c2ccde6694"
      },
      "outputs": [
        {
          "data": {
            "text/plain": [
              "6"
            ]
          },
          "execution_count": 220,
          "metadata": {},
          "output_type": "execute_result"
        }
      ],
      "source": [
        "10 - 4"
      ]
    },
    {
      "cell_type": "code",
      "execution_count": 221,
      "metadata": {
        "colab": {
          "base_uri": "https://localhost:8080/"
        },
        "id": "8jMXDnahH3p3",
        "outputId": "0b1ebcae-9439-461d-90cc-9e4f7eeb88cc"
      },
      "outputs": [
        {
          "data": {
            "text/plain": [
              "40"
            ]
          },
          "execution_count": 221,
          "metadata": {},
          "output_type": "execute_result"
        }
      ],
      "source": [
        "10 * 4"
      ]
    },
    {
      "cell_type": "code",
      "execution_count": 222,
      "metadata": {
        "colab": {
          "base_uri": "https://localhost:8080/"
        },
        "id": "ql7c5I1qH3p3",
        "outputId": "2fd9f073-0642-4eff-8d3d-ab3609f061ab"
      },
      "outputs": [
        {
          "data": {
            "text/plain": [
              "10000"
            ]
          },
          "execution_count": 222,
          "metadata": {},
          "output_type": "execute_result"
        }
      ],
      "source": [
        "10 ** 4    # exponent"
      ]
    },
    {
      "cell_type": "code",
      "execution_count": 223,
      "metadata": {
        "colab": {
          "base_uri": "https://localhost:8080/"
        },
        "id": "5QsHeGKaH3p4",
        "outputId": "2621d6f2-b513-49ba-855e-48e7671a4f16"
      },
      "outputs": [
        {
          "data": {
            "text/plain": [
              "1"
            ]
          },
          "execution_count": 223,
          "metadata": {},
          "output_type": "execute_result"
        }
      ],
      "source": [
        "5 % 4      # modulo - computes the remainder"
      ]
    },
    {
      "cell_type": "code",
      "execution_count": 224,
      "metadata": {
        "colab": {
          "base_uri": "https://localhost:8080/"
        },
        "id": "9V2TGlp8H3p4",
        "outputId": "dbf7dfd9-c4f2-4d0a-ec9e-057c66180288",
        "scrolled": true
      },
      "outputs": [
        {
          "data": {
            "text/plain": [
              "2.5"
            ]
          },
          "execution_count": 224,
          "metadata": {},
          "output_type": "execute_result"
        }
      ],
      "source": [
        "# Python 2: returns 2 (because both types are 'int')\n",
        "# Python 3: returns 2.5\n",
        "10 / 4"
      ]
    },
    {
      "cell_type": "code",
      "execution_count": 225,
      "metadata": {
        "colab": {
          "base_uri": "https://localhost:8080/"
        },
        "id": "4KGYVO0iH3p4",
        "outputId": "55abae93-21f8-4e5b-b854-b12b59b2d102",
        "scrolled": true
      },
      "outputs": [
        {
          "data": {
            "text/plain": [
              "2.5"
            ]
          },
          "execution_count": 225,
          "metadata": {},
          "output_type": "execute_result"
        }
      ],
      "source": [
        "10 / float(4)"
      ]
    },
    {
      "cell_type": "code",
      "execution_count": 226,
      "metadata": {
        "collapsed": true,
        "id": "PgVfDPbJH3p4"
      },
      "outputs": [],
      "source": [
        "# force '/' in Python 2 to perform 'true division' (unnecessary in Python 3)\n",
        "from __future__ import division"
      ]
    },
    {
      "cell_type": "code",
      "execution_count": 227,
      "metadata": {
        "colab": {
          "base_uri": "https://localhost:8080/"
        },
        "id": "9t-JD3MgH3p4",
        "outputId": "d7411462-00d8-4fa5-a4f8-3f1461e65346"
      },
      "outputs": [
        {
          "data": {
            "text/plain": [
              "2.5"
            ]
          },
          "execution_count": 227,
          "metadata": {},
          "output_type": "execute_result"
        }
      ],
      "source": [
        "10 / 4     # true division"
      ]
    },
    {
      "cell_type": "code",
      "execution_count": 228,
      "metadata": {
        "colab": {
          "base_uri": "https://localhost:8080/"
        },
        "id": "iEjA27xjH3p4",
        "outputId": "034043b5-8f74-4a7d-f8ef-cd118142f635"
      },
      "outputs": [
        {
          "data": {
            "text/plain": [
              "2"
            ]
          },
          "execution_count": 228,
          "metadata": {},
          "output_type": "execute_result"
        }
      ],
      "source": [
        "10 // 4    # floor division"
      ]
    },
    {
      "cell_type": "markdown",
      "metadata": {
        "id": "350ynbnYH3p5"
      },
      "source": [
        "[<a href=\"#Python-Quick-Reference-by-Data-School\">Back to top</a>]"
      ]
    },
    {
      "cell_type": "markdown",
      "metadata": {
        "id": "cABdueuBH3p5"
      },
      "source": [
        "## 4. Comparisons and Boolean Operations"
      ]
    },
    {
      "cell_type": "markdown",
      "metadata": {
        "id": "0jlkkIv6H3p5"
      },
      "source": [
        "**Assignment statement:**"
      ]
    },
    {
      "cell_type": "code",
      "execution_count": 229,
      "metadata": {
        "collapsed": true,
        "id": "fzb1ZSEOH3p5"
      },
      "outputs": [],
      "source": [
        "x = 5"
      ]
    },
    {
      "cell_type": "markdown",
      "metadata": {
        "id": "U6pKQty1H3p5"
      },
      "source": [
        "**Comparisons:**"
      ]
    },
    {
      "cell_type": "code",
      "execution_count": 230,
      "metadata": {
        "colab": {
          "base_uri": "https://localhost:8080/"
        },
        "id": "M_vEPNjvH3p5",
        "outputId": "7dd5d1c9-7e26-489b-d1bf-9125418d9353"
      },
      "outputs": [
        {
          "data": {
            "text/plain": [
              "True"
            ]
          },
          "execution_count": 230,
          "metadata": {},
          "output_type": "execute_result"
        }
      ],
      "source": [
        "x > 3"
      ]
    },
    {
      "cell_type": "code",
      "execution_count": 231,
      "metadata": {
        "colab": {
          "base_uri": "https://localhost:8080/"
        },
        "id": "uUs1SNNCH3p5",
        "outputId": "68c544c2-a436-4f3d-faf9-ca8fcac59401"
      },
      "outputs": [
        {
          "data": {
            "text/plain": [
              "True"
            ]
          },
          "execution_count": 231,
          "metadata": {},
          "output_type": "execute_result"
        }
      ],
      "source": [
        "x >= 3"
      ]
    },
    {
      "cell_type": "code",
      "execution_count": 232,
      "metadata": {
        "colab": {
          "base_uri": "https://localhost:8080/"
        },
        "id": "kWtOTtFqH3p5",
        "outputId": "c622479d-3e52-4c3f-cfdb-22e7f3a7ea89"
      },
      "outputs": [
        {
          "data": {
            "text/plain": [
              "True"
            ]
          },
          "execution_count": 232,
          "metadata": {},
          "output_type": "execute_result"
        }
      ],
      "source": [
        "x != 3"
      ]
    },
    {
      "cell_type": "code",
      "execution_count": 233,
      "metadata": {
        "colab": {
          "base_uri": "https://localhost:8080/"
        },
        "id": "WV6seQLgH3p5",
        "outputId": "d4a209da-4c97-46f7-e913-cff7dc6c3890"
      },
      "outputs": [
        {
          "data": {
            "text/plain": [
              "True"
            ]
          },
          "execution_count": 233,
          "metadata": {},
          "output_type": "execute_result"
        }
      ],
      "source": [
        "x == 5"
      ]
    },
    {
      "cell_type": "markdown",
      "metadata": {
        "id": "u558sTT2H3p6"
      },
      "source": [
        "**Boolean operations:**"
      ]
    },
    {
      "cell_type": "code",
      "execution_count": 234,
      "metadata": {
        "colab": {
          "base_uri": "https://localhost:8080/"
        },
        "id": "IAZkqEv6H3p6",
        "outputId": "70bc8e6e-467f-4303-d415-8a2f7043b5bf"
      },
      "outputs": [
        {
          "data": {
            "text/plain": [
              "True"
            ]
          },
          "execution_count": 234,
          "metadata": {},
          "output_type": "execute_result"
        }
      ],
      "source": [
        "5 > 3 and 6 > 3"
      ]
    },
    {
      "cell_type": "code",
      "execution_count": 235,
      "metadata": {
        "colab": {
          "base_uri": "https://localhost:8080/"
        },
        "id": "RZ1GLkMAH3p6",
        "outputId": "3d8a740b-784d-4aec-e593-23a1d3651e74"
      },
      "outputs": [
        {
          "data": {
            "text/plain": [
              "True"
            ]
          },
          "execution_count": 235,
          "metadata": {},
          "output_type": "execute_result"
        }
      ],
      "source": [
        "5 > 3 or 5 < 3"
      ]
    },
    {
      "cell_type": "code",
      "execution_count": 236,
      "metadata": {
        "colab": {
          "base_uri": "https://localhost:8080/"
        },
        "id": "o7EAhH0nH3p6",
        "outputId": "d5f2a328-4b7e-4a4b-efa8-e41e523e555a"
      },
      "outputs": [
        {
          "data": {
            "text/plain": [
              "True"
            ]
          },
          "execution_count": 236,
          "metadata": {},
          "output_type": "execute_result"
        }
      ],
      "source": [
        "not False"
      ]
    },
    {
      "cell_type": "code",
      "execution_count": 237,
      "metadata": {
        "colab": {
          "base_uri": "https://localhost:8080/"
        },
        "id": "V0chDbkIH3p6",
        "outputId": "feaabab5-f432-4162-cafe-f8b949b7ecf6"
      },
      "outputs": [
        {
          "data": {
            "text/plain": [
              "True"
            ]
          },
          "execution_count": 237,
          "metadata": {},
          "output_type": "execute_result"
        }
      ],
      "source": [
        "False or not False and True     # evaluation order: not, and, or"
      ]
    },
    {
      "cell_type": "markdown",
      "metadata": {
        "id": "L-KDj5LaH3p6"
      },
      "source": [
        "[<a href=\"#Python-Quick-Reference-by-Data-School\">Back to top</a>]"
      ]
    },
    {
      "cell_type": "markdown",
      "metadata": {
        "id": "DibGZbofH3p6"
      },
      "source": [
        "## 5. Conditional Statements"
      ]
    },
    {
      "cell_type": "code",
      "execution_count": 238,
      "metadata": {
        "colab": {
          "base_uri": "https://localhost:8080/"
        },
        "id": "KHe3Xy0BH3p6",
        "outputId": "e636e4dc-aa72-4b49-ff62-039e559686a2"
      },
      "outputs": [
        {
          "name": "stdout",
          "output_type": "stream",
          "text": [
            "positive\n"
          ]
        }
      ],
      "source": [
        "# if statement\n",
        "if x > 0:\n",
        "    print('positive')"
      ]
    },
    {
      "cell_type": "code",
      "execution_count": 239,
      "metadata": {
        "colab": {
          "base_uri": "https://localhost:8080/"
        },
        "id": "idVxDjPUH3p7",
        "outputId": "8f03f76a-65b0-4d22-fcd9-140d216349eb"
      },
      "outputs": [
        {
          "name": "stdout",
          "output_type": "stream",
          "text": [
            "positive\n"
          ]
        }
      ],
      "source": [
        "# if/else statement\n",
        "if x > 0:\n",
        "    print('positive')\n",
        "else:\n",
        "    print('zero or negative')"
      ]
    },
    {
      "cell_type": "code",
      "execution_count": 240,
      "metadata": {
        "colab": {
          "base_uri": "https://localhost:8080/"
        },
        "id": "pQ4Uc_4IH3p7",
        "outputId": "c85f61f4-c541-4cf4-c647-4e079da34f0c"
      },
      "outputs": [
        {
          "name": "stdout",
          "output_type": "stream",
          "text": [
            "positive\n"
          ]
        }
      ],
      "source": [
        "# if/elif/else statement\n",
        "if x > 0:\n",
        "    print('positive')\n",
        "elif x == 0:\n",
        "    print('zero')\n",
        "else:\n",
        "    print('negative')"
      ]
    },
    {
      "cell_type": "code",
      "execution_count": 241,
      "metadata": {
        "colab": {
          "base_uri": "https://localhost:8080/"
        },
        "id": "uTQq2EuCH3p7",
        "outputId": "062b3ed9-ca04-492d-d039-4a74c74db608"
      },
      "outputs": [
        {
          "name": "stdout",
          "output_type": "stream",
          "text": [
            "positive\n"
          ]
        }
      ],
      "source": [
        "# single-line if statement (sometimes discouraged)\n",
        "if x > 0: print('positive')"
      ]
    },
    {
      "cell_type": "code",
      "execution_count": 242,
      "metadata": {
        "colab": {
          "base_uri": "https://localhost:8080/",
          "height": 35
        },
        "id": "puHUG1FzH3p7",
        "outputId": "d02e6511-7807-4951-8f75-6effea36e5c3"
      },
      "outputs": [
        {
          "data": {
            "application/vnd.google.colaboratory.intrinsic+json": {
              "type": "string"
            },
            "text/plain": [
              "'positive'"
            ]
          },
          "execution_count": 242,
          "metadata": {},
          "output_type": "execute_result"
        }
      ],
      "source": [
        "# single-line if/else statement (sometimes discouraged), known as a 'ternary operator'\n",
        "'positive' if x > 0 else 'zero or negative'"
      ]
    },
    {
      "cell_type": "markdown",
      "metadata": {
        "id": "FiS4pggWH3p7"
      },
      "source": [
        "[<a href=\"#Python-Quick-Reference-by-Data-School\">Back to top</a>]"
      ]
    },
    {
      "cell_type": "markdown",
      "metadata": {
        "id": "9eV3mvhGH3p7"
      },
      "source": [
        "## 6. Lists\n",
        "\n",
        "- **List properties:** ordered, iterable, mutable, can contain multiple data types"
      ]
    },
    {
      "cell_type": "code",
      "execution_count": 243,
      "metadata": {
        "collapsed": true,
        "id": "3tnbop3FH3p7"
      },
      "outputs": [],
      "source": [
        "# create an empty list (two ways)\n",
        "empty_list = []\n",
        "empty_list = list()"
      ]
    },
    {
      "cell_type": "code",
      "execution_count": 244,
      "metadata": {
        "collapsed": true,
        "id": "09Ct4Pc8H3p8"
      },
      "outputs": [],
      "source": [
        "# create a list\n",
        "simpsons = ['homer', 'marge', 'bart']"
      ]
    },
    {
      "cell_type": "markdown",
      "metadata": {
        "id": "AS2HuXZlH3p8"
      },
      "source": [
        "**Examine a list:**"
      ]
    },
    {
      "cell_type": "code",
      "execution_count": 245,
      "metadata": {
        "colab": {
          "base_uri": "https://localhost:8080/",
          "height": 35
        },
        "id": "LpmF89H2H3p8",
        "outputId": "6fd587ed-3ede-47f9-9132-e6bd1e555973"
      },
      "outputs": [
        {
          "data": {
            "application/vnd.google.colaboratory.intrinsic+json": {
              "type": "string"
            },
            "text/plain": [
              "'homer'"
            ]
          },
          "execution_count": 245,
          "metadata": {},
          "output_type": "execute_result"
        }
      ],
      "source": [
        "# print element 0\n",
        "simpsons[0]"
      ]
    },
    {
      "cell_type": "code",
      "execution_count": 246,
      "metadata": {
        "colab": {
          "base_uri": "https://localhost:8080/"
        },
        "id": "7yn6xyNpH3p8",
        "outputId": "4eb5b7c9-1293-414e-c833-d23edcfc0118"
      },
      "outputs": [
        {
          "data": {
            "text/plain": [
              "3"
            ]
          },
          "execution_count": 246,
          "metadata": {},
          "output_type": "execute_result"
        }
      ],
      "source": [
        "len(simpsons)"
      ]
    },
    {
      "cell_type": "markdown",
      "metadata": {
        "id": "hsxWv2IyH3p8"
      },
      "source": [
        "**Modify a list (does not return the list):**"
      ]
    },
    {
      "cell_type": "code",
      "execution_count": 247,
      "metadata": {
        "colab": {
          "base_uri": "https://localhost:8080/"
        },
        "id": "M-6qY8YCH3p8",
        "outputId": "553ecec5-f1e4-4ef8-acf6-0489f83de629"
      },
      "outputs": [
        {
          "data": {
            "text/plain": [
              "['homer', 'marge', 'bart', 'lisa']"
            ]
          },
          "execution_count": 247,
          "metadata": {},
          "output_type": "execute_result"
        }
      ],
      "source": [
        "# append element to end\n",
        "simpsons.append('lisa')\n",
        "simpsons"
      ]
    },
    {
      "cell_type": "code",
      "execution_count": 248,
      "metadata": {
        "colab": {
          "base_uri": "https://localhost:8080/"
        },
        "id": "q3achf7bH3p8",
        "outputId": "253ae18c-1ed1-4b9b-8bf5-9962a1a639a0"
      },
      "outputs": [
        {
          "data": {
            "text/plain": [
              "['homer', 'marge', 'bart', 'lisa', 'itchy', 'scratchy']"
            ]
          },
          "execution_count": 248,
          "metadata": {},
          "output_type": "execute_result"
        }
      ],
      "source": [
        "# append multiple elements to end\n",
        "simpsons.extend(['itchy', 'scratchy'])\n",
        "simpsons"
      ]
    },
    {
      "cell_type": "code",
      "execution_count": 249,
      "metadata": {
        "colab": {
          "base_uri": "https://localhost:8080/"
        },
        "id": "N92XUq8NH3p9",
        "outputId": "06833fb7-fda2-4a1e-964a-0aee10559cdd"
      },
      "outputs": [
        {
          "data": {
            "text/plain": [
              "['maggie', 'homer', 'marge', 'bart', 'lisa', 'itchy', 'scratchy']"
            ]
          },
          "execution_count": 249,
          "metadata": {},
          "output_type": "execute_result"
        }
      ],
      "source": [
        "# insert element at index 0 (shifts everything right)\n",
        "simpsons.insert(0, 'maggie')\n",
        "simpsons"
      ]
    },
    {
      "cell_type": "code",
      "execution_count": 250,
      "metadata": {
        "colab": {
          "base_uri": "https://localhost:8080/"
        },
        "id": "57Gb7uacH3p9",
        "outputId": "4374306b-c17b-410b-8860-681a8041c692"
      },
      "outputs": [
        {
          "data": {
            "text/plain": [
              "['maggie', 'homer', 'marge', 'lisa', 'itchy', 'scratchy']"
            ]
          },
          "execution_count": 250,
          "metadata": {},
          "output_type": "execute_result"
        }
      ],
      "source": [
        "# search for first instance and remove it\n",
        "simpsons.remove('bart')\n",
        "simpsons"
      ]
    },
    {
      "cell_type": "code",
      "execution_count": 251,
      "metadata": {
        "colab": {
          "base_uri": "https://localhost:8080/",
          "height": 35
        },
        "id": "Mj423DK1H3p9",
        "outputId": "6a86a3d6-bc2c-4b40-9228-8b2e145849c7"
      },
      "outputs": [
        {
          "data": {
            "application/vnd.google.colaboratory.intrinsic+json": {
              "type": "string"
            },
            "text/plain": [
              "'maggie'"
            ]
          },
          "execution_count": 251,
          "metadata": {},
          "output_type": "execute_result"
        }
      ],
      "source": [
        "# remove element 0 and return it\n",
        "simpsons.pop(0)"
      ]
    },
    {
      "cell_type": "code",
      "execution_count": 252,
      "metadata": {
        "colab": {
          "base_uri": "https://localhost:8080/"
        },
        "id": "nJp2TLgDH3p9",
        "outputId": "673e83a1-7e46-4606-aeb2-1e5d8682627b"
      },
      "outputs": [
        {
          "data": {
            "text/plain": [
              "['marge', 'lisa', 'itchy', 'scratchy']"
            ]
          },
          "execution_count": 252,
          "metadata": {},
          "output_type": "execute_result"
        }
      ],
      "source": [
        "# remove element 0 (does not return it)\n",
        "del simpsons[0]\n",
        "simpsons"
      ]
    },
    {
      "cell_type": "code",
      "execution_count": 253,
      "metadata": {
        "colab": {
          "base_uri": "https://localhost:8080/"
        },
        "id": "37-QtsSZH3p9",
        "outputId": "a625c245-3fe5-4c58-9ed8-d1a693280c0c"
      },
      "outputs": [
        {
          "data": {
            "text/plain": [
              "['krusty', 'lisa', 'itchy', 'scratchy']"
            ]
          },
          "execution_count": 253,
          "metadata": {},
          "output_type": "execute_result"
        }
      ],
      "source": [
        "# replace element 0\n",
        "simpsons[0] = 'krusty'\n",
        "simpsons"
      ]
    },
    {
      "cell_type": "code",
      "execution_count": 254,
      "metadata": {
        "colab": {
          "base_uri": "https://localhost:8080/"
        },
        "id": "TbeHI5miH3p-",
        "outputId": "e4c1e58d-af39-48aa-86b0-39dc20d3f428"
      },
      "outputs": [
        {
          "data": {
            "text/plain": [
              "['krusty', 'lisa', 'itchy', 'scratchy', 'ned', 'rod', 'todd']"
            ]
          },
          "execution_count": 254,
          "metadata": {},
          "output_type": "execute_result"
        }
      ],
      "source": [
        "# concatenate lists (slower than 'extend' method)\n",
        "neighbors = simpsons + ['ned', 'rod', 'todd']\n",
        "neighbors"
      ]
    },
    {
      "cell_type": "markdown",
      "metadata": {
        "id": "4lxtlpOrH3p-"
      },
      "source": [
        "**Find elements in a list:**"
      ]
    },
    {
      "cell_type": "code",
      "execution_count": 255,
      "metadata": {
        "colab": {
          "base_uri": "https://localhost:8080/"
        },
        "id": "8NGu8m6eH3p-",
        "outputId": "9b9c28e4-e3fe-4145-a747-520434491419"
      },
      "outputs": [
        {
          "data": {
            "text/plain": [
              "1"
            ]
          },
          "execution_count": 255,
          "metadata": {},
          "output_type": "execute_result"
        }
      ],
      "source": [
        "# counts the number of instances\n",
        "simpsons.count('lisa')"
      ]
    },
    {
      "cell_type": "code",
      "execution_count": 256,
      "metadata": {
        "colab": {
          "base_uri": "https://localhost:8080/"
        },
        "id": "Zfdolzu5H3p-",
        "outputId": "819d6a99-75df-4a9b-f5a2-915ea5607269"
      },
      "outputs": [
        {
          "data": {
            "text/plain": [
              "2"
            ]
          },
          "execution_count": 256,
          "metadata": {},
          "output_type": "execute_result"
        }
      ],
      "source": [
        "# returns index of first instance\n",
        "simpsons.index('itchy')"
      ]
    },
    {
      "cell_type": "markdown",
      "metadata": {
        "id": "ny82qjOLH3p-"
      },
      "source": [
        "**List slicing:**"
      ]
    },
    {
      "cell_type": "code",
      "execution_count": 257,
      "metadata": {
        "collapsed": true,
        "id": "SVsgnkfOH3p-"
      },
      "outputs": [],
      "source": [
        "weekdays = ['mon', 'tues', 'wed', 'thurs', 'fri']"
      ]
    },
    {
      "cell_type": "code",
      "execution_count": 258,
      "metadata": {
        "colab": {
          "base_uri": "https://localhost:8080/",
          "height": 35
        },
        "id": "DCAaw6ceH3p-",
        "outputId": "a7eb33e4-cbfc-413b-c511-ed23047bbfc7"
      },
      "outputs": [
        {
          "data": {
            "application/vnd.google.colaboratory.intrinsic+json": {
              "type": "string"
            },
            "text/plain": [
              "'mon'"
            ]
          },
          "execution_count": 258,
          "metadata": {},
          "output_type": "execute_result"
        }
      ],
      "source": [
        "# element 0\n",
        "weekdays[0]"
      ]
    },
    {
      "cell_type": "code",
      "execution_count": 259,
      "metadata": {
        "colab": {
          "base_uri": "https://localhost:8080/"
        },
        "id": "Ualuy0lYH3p-",
        "outputId": "52d07549-b00c-4b2e-da6e-5812dd20316b"
      },
      "outputs": [
        {
          "data": {
            "text/plain": [
              "['mon', 'tues', 'wed']"
            ]
          },
          "execution_count": 259,
          "metadata": {},
          "output_type": "execute_result"
        }
      ],
      "source": [
        "# elements 0 (inclusive) to 3 (exclusive)\n",
        "weekdays[0:3]"
      ]
    },
    {
      "cell_type": "code",
      "execution_count": 260,
      "metadata": {
        "colab": {
          "base_uri": "https://localhost:8080/"
        },
        "id": "RtHb24rIH3p-",
        "outputId": "55e49582-cb78-4f47-d3f6-65aa623ecb45"
      },
      "outputs": [
        {
          "data": {
            "text/plain": [
              "['mon', 'tues', 'wed']"
            ]
          },
          "execution_count": 260,
          "metadata": {},
          "output_type": "execute_result"
        }
      ],
      "source": [
        "# starting point is implied to be 0\n",
        "weekdays[:3]"
      ]
    },
    {
      "cell_type": "code",
      "execution_count": 261,
      "metadata": {
        "colab": {
          "base_uri": "https://localhost:8080/"
        },
        "id": "sGo_Mus_H3p_",
        "outputId": "f11309c7-f85a-4ec7-ad74-8b53130010b1"
      },
      "outputs": [
        {
          "data": {
            "text/plain": [
              "['thurs', 'fri']"
            ]
          },
          "execution_count": 261,
          "metadata": {},
          "output_type": "execute_result"
        }
      ],
      "source": [
        "# elements 3 (inclusive) through the end\n",
        "weekdays[3:]"
      ]
    },
    {
      "cell_type": "code",
      "execution_count": 262,
      "metadata": {
        "colab": {
          "base_uri": "https://localhost:8080/",
          "height": 35
        },
        "id": "C_u8atyZH3p_",
        "outputId": "a872d6dd-ec82-4975-ee10-8143cf52bcf1"
      },
      "outputs": [
        {
          "data": {
            "application/vnd.google.colaboratory.intrinsic+json": {
              "type": "string"
            },
            "text/plain": [
              "'fri'"
            ]
          },
          "execution_count": 262,
          "metadata": {},
          "output_type": "execute_result"
        }
      ],
      "source": [
        "# last element\n",
        "weekdays[-1]"
      ]
    },
    {
      "cell_type": "code",
      "execution_count": 263,
      "metadata": {
        "colab": {
          "base_uri": "https://localhost:8080/"
        },
        "id": "GV_qp5ozH3p_",
        "outputId": "200bf955-3afe-42a1-b3c3-e549435c2ca0"
      },
      "outputs": [
        {
          "data": {
            "text/plain": [
              "['mon', 'wed', 'fri']"
            ]
          },
          "execution_count": 263,
          "metadata": {},
          "output_type": "execute_result"
        }
      ],
      "source": [
        "# every 2nd element (step by 2)\n",
        "weekdays[::2]"
      ]
    },
    {
      "cell_type": "code",
      "execution_count": 264,
      "metadata": {
        "colab": {
          "base_uri": "https://localhost:8080/"
        },
        "id": "jY0RdQzwH3p_",
        "outputId": "876e9621-74cf-4e29-8c8a-d168c77b5bb7"
      },
      "outputs": [
        {
          "data": {
            "text/plain": [
              "['fri', 'thurs', 'wed', 'tues', 'mon']"
            ]
          },
          "execution_count": 264,
          "metadata": {},
          "output_type": "execute_result"
        }
      ],
      "source": [
        "# backwards (step by -1)\n",
        "weekdays[::-1]"
      ]
    },
    {
      "cell_type": "code",
      "execution_count": 265,
      "metadata": {
        "colab": {
          "base_uri": "https://localhost:8080/"
        },
        "id": "t3QoyJbuH3p_",
        "outputId": "e55d86f7-00e5-40a4-e238-337fbac45ded"
      },
      "outputs": [
        {
          "data": {
            "text/plain": [
              "['fri', 'thurs', 'wed', 'tues', 'mon']"
            ]
          },
          "execution_count": 265,
          "metadata": {},
          "output_type": "execute_result"
        }
      ],
      "source": [
        "# alternative method for returning the list backwards\n",
        "list(reversed(weekdays))"
      ]
    },
    {
      "cell_type": "markdown",
      "metadata": {
        "id": "9GVcWj6hH3p_"
      },
      "source": [
        "**Sort a list in place (modifies but does not return the list):**"
      ]
    },
    {
      "cell_type": "code",
      "execution_count": 266,
      "metadata": {
        "colab": {
          "base_uri": "https://localhost:8080/"
        },
        "id": "_TkN2IymH3p_",
        "outputId": "3de2bd2c-3b1e-4690-ae47-1f3b3efee558"
      },
      "outputs": [
        {
          "data": {
            "text/plain": [
              "['itchy', 'krusty', 'lisa', 'scratchy']"
            ]
          },
          "execution_count": 266,
          "metadata": {},
          "output_type": "execute_result"
        }
      ],
      "source": [
        "simpsons.sort()\n",
        "simpsons"
      ]
    },
    {
      "cell_type": "code",
      "execution_count": 267,
      "metadata": {
        "colab": {
          "base_uri": "https://localhost:8080/"
        },
        "id": "mu3C87FTH3qA",
        "outputId": "ab8e6122-3b79-4290-d5bd-d3e64dcf63bd"
      },
      "outputs": [
        {
          "data": {
            "text/plain": [
              "['scratchy', 'lisa', 'krusty', 'itchy']"
            ]
          },
          "execution_count": 267,
          "metadata": {},
          "output_type": "execute_result"
        }
      ],
      "source": [
        "# sort in reverse\n",
        "simpsons.sort(reverse=True)\n",
        "simpsons"
      ]
    },
    {
      "cell_type": "code",
      "execution_count": 268,
      "metadata": {
        "colab": {
          "base_uri": "https://localhost:8080/"
        },
        "id": "FNlICk1JH3qA",
        "outputId": "e373d496-45e8-44c5-8509-ed687daf4a12"
      },
      "outputs": [
        {
          "data": {
            "text/plain": [
              "['lisa', 'itchy', 'krusty', 'scratchy']"
            ]
          },
          "execution_count": 268,
          "metadata": {},
          "output_type": "execute_result"
        }
      ],
      "source": [
        "# sort by a key\n",
        "simpsons.sort(key=len)\n",
        "simpsons"
      ]
    },
    {
      "cell_type": "markdown",
      "metadata": {
        "id": "xhRz-FIuH3qA"
      },
      "source": [
        "**Return a sorted list (does not modify the original list):**"
      ]
    },
    {
      "cell_type": "code",
      "execution_count": 269,
      "metadata": {
        "colab": {
          "base_uri": "https://localhost:8080/"
        },
        "id": "OoX7py0_H3qA",
        "outputId": "925c00f7-9cac-4843-b839-9910522da9aa"
      },
      "outputs": [
        {
          "data": {
            "text/plain": [
              "['itchy', 'krusty', 'lisa', 'scratchy']"
            ]
          },
          "execution_count": 269,
          "metadata": {},
          "output_type": "execute_result"
        }
      ],
      "source": [
        "sorted(simpsons)"
      ]
    },
    {
      "cell_type": "code",
      "execution_count": 270,
      "metadata": {
        "colab": {
          "base_uri": "https://localhost:8080/"
        },
        "id": "8a6ZUd0CH3qA",
        "outputId": "adf07bc1-b945-481f-ca99-91a5e589b248"
      },
      "outputs": [
        {
          "data": {
            "text/plain": [
              "['scratchy', 'lisa', 'krusty', 'itchy']"
            ]
          },
          "execution_count": 270,
          "metadata": {},
          "output_type": "execute_result"
        }
      ],
      "source": [
        "sorted(simpsons, reverse=True)"
      ]
    },
    {
      "cell_type": "code",
      "execution_count": 271,
      "metadata": {
        "colab": {
          "base_uri": "https://localhost:8080/"
        },
        "id": "aMODkZCoH3qA",
        "outputId": "9c6bd22c-590c-4101-eee7-0916c73e5580"
      },
      "outputs": [
        {
          "data": {
            "text/plain": [
              "['lisa', 'itchy', 'krusty', 'scratchy']"
            ]
          },
          "execution_count": 271,
          "metadata": {},
          "output_type": "execute_result"
        }
      ],
      "source": [
        "sorted(simpsons, key=len)"
      ]
    },
    {
      "cell_type": "markdown",
      "metadata": {
        "id": "dp34KK2LH3qA"
      },
      "source": [
        "**Insert into an already sorted list, and keep it sorted:**"
      ]
    },
    {
      "cell_type": "code",
      "execution_count": 272,
      "metadata": {
        "colab": {
          "base_uri": "https://localhost:8080/"
        },
        "id": "Sa6AIFCNH3qA",
        "outputId": "21259d75-a4dd-4aa8-834a-3f39cf0306fa"
      },
      "outputs": [
        {
          "data": {
            "text/plain": [
              "[10, 20, 30, 40, 50]"
            ]
          },
          "execution_count": 272,
          "metadata": {},
          "output_type": "execute_result"
        }
      ],
      "source": [
        "num = [10, 20, 40, 50]\n",
        "from bisect import insort\n",
        "insort(num, 30)\n",
        "num"
      ]
    },
    {
      "cell_type": "markdown",
      "metadata": {
        "id": "3VA1uGP5H3qB"
      },
      "source": [
        "**Object references and copies:**"
      ]
    },
    {
      "cell_type": "code",
      "execution_count": 273,
      "metadata": {
        "collapsed": true,
        "id": "kq5aBhKXH3qB"
      },
      "outputs": [],
      "source": [
        "# create a second reference to the same list\n",
        "same_num = num"
      ]
    },
    {
      "cell_type": "code",
      "execution_count": 274,
      "metadata": {
        "colab": {
          "base_uri": "https://localhost:8080/"
        },
        "id": "_c2eP9JiH3qB",
        "outputId": "bd44f91f-c813-485b-95a5-a1ba3398599f"
      },
      "outputs": [
        {
          "name": "stdout",
          "output_type": "stream",
          "text": [
            "[0, 20, 30, 40, 50]\n",
            "[0, 20, 30, 40, 50]\n"
          ]
        }
      ],
      "source": [
        "# modifies both 'num' and 'same_num'\n",
        "same_num[0] = 0\n",
        "print(num)\n",
        "print(same_num)"
      ]
    },
    {
      "cell_type": "code",
      "execution_count": 275,
      "metadata": {
        "collapsed": true,
        "id": "Zll0s7acH3qB"
      },
      "outputs": [],
      "source": [
        "# copy a list (two ways)\n",
        "new_num = num[:]\n",
        "new_num = list(num)"
      ]
    },
    {
      "cell_type": "markdown",
      "metadata": {
        "id": "hAJTTX21H3qB"
      },
      "source": [
        "**Examine objects:**"
      ]
    },
    {
      "cell_type": "code",
      "execution_count": 276,
      "metadata": {
        "colab": {
          "base_uri": "https://localhost:8080/"
        },
        "id": "97up8IppH3qB",
        "outputId": "e0d81b84-6133-42b8-9833-8a6c02ba6894"
      },
      "outputs": [
        {
          "data": {
            "text/plain": [
              "True"
            ]
          },
          "execution_count": 276,
          "metadata": {},
          "output_type": "execute_result"
        }
      ],
      "source": [
        "num is same_num    # checks whether they are the same object"
      ]
    },
    {
      "cell_type": "code",
      "execution_count": 277,
      "metadata": {
        "colab": {
          "base_uri": "https://localhost:8080/"
        },
        "id": "wNIBeMirH3qB",
        "outputId": "01960ea8-c837-4b9b-bddd-a86da725f9c9"
      },
      "outputs": [
        {
          "data": {
            "text/plain": [
              "False"
            ]
          },
          "execution_count": 277,
          "metadata": {},
          "output_type": "execute_result"
        }
      ],
      "source": [
        "num is new_num"
      ]
    },
    {
      "cell_type": "code",
      "execution_count": 278,
      "metadata": {
        "colab": {
          "base_uri": "https://localhost:8080/"
        },
        "id": "4Fq-M1iqH3qB",
        "outputId": "db1df96d-4803-4a10-d70e-0a026dd82cb0"
      },
      "outputs": [
        {
          "data": {
            "text/plain": [
              "True"
            ]
          },
          "execution_count": 278,
          "metadata": {},
          "output_type": "execute_result"
        }
      ],
      "source": [
        "num == same_num    # checks whether they have the same contents"
      ]
    },
    {
      "cell_type": "code",
      "execution_count": 279,
      "metadata": {
        "colab": {
          "base_uri": "https://localhost:8080/"
        },
        "id": "k2ZbNGHAH3qB",
        "outputId": "88170e50-10e3-4dea-9e93-8904b68287f9"
      },
      "outputs": [
        {
          "data": {
            "text/plain": [
              "True"
            ]
          },
          "execution_count": 279,
          "metadata": {},
          "output_type": "execute_result"
        }
      ],
      "source": [
        "num == new_num"
      ]
    },
    {
      "cell_type": "markdown",
      "metadata": {
        "id": "vt3R2PTLH3qC"
      },
      "source": [
        "[<a href=\"#Python-Quick-Reference-by-Data-School\">Back to top</a>]"
      ]
    },
    {
      "cell_type": "markdown",
      "metadata": {
        "id": "ZV-omRzqH3qC"
      },
      "source": [
        "## 7. Tuples\n",
        "\n",
        "- **Tuple properties:** ordered, iterable, immutable, can contain multiple data types\n",
        "- Like lists, but they don't change size"
      ]
    },
    {
      "cell_type": "code",
      "execution_count": 280,
      "metadata": {
        "collapsed": true,
        "id": "p_2njFklH3qC"
      },
      "outputs": [],
      "source": [
        "# create a tuple directly\n",
        "digits = (0, 1, 'two')"
      ]
    },
    {
      "cell_type": "code",
      "execution_count": 281,
      "metadata": {
        "collapsed": true,
        "id": "pY2-hWR0H3qC"
      },
      "outputs": [],
      "source": [
        "# create a tuple from a list\n",
        "digits = tuple([0, 1, 'two'])"
      ]
    },
    {
      "cell_type": "code",
      "execution_count": 282,
      "metadata": {
        "collapsed": true,
        "id": "yMDyjlahH3qC"
      },
      "outputs": [],
      "source": [
        "# trailing comma is required to indicate it's a tuple\n",
        "zero = (0,)"
      ]
    },
    {
      "cell_type": "markdown",
      "metadata": {
        "id": "qkVg22u_H3qC"
      },
      "source": [
        "**Examine a tuple:**"
      ]
    },
    {
      "cell_type": "code",
      "execution_count": 283,
      "metadata": {
        "colab": {
          "base_uri": "https://localhost:8080/",
          "height": 35
        },
        "id": "6kcSBl5cH3qC",
        "outputId": "8c7a00e0-2a3e-4852-898a-1ce76da5b078"
      },
      "outputs": [
        {
          "data": {
            "application/vnd.google.colaboratory.intrinsic+json": {
              "type": "string"
            },
            "text/plain": [
              "'two'"
            ]
          },
          "execution_count": 283,
          "metadata": {},
          "output_type": "execute_result"
        }
      ],
      "source": [
        "digits[2]"
      ]
    },
    {
      "cell_type": "code",
      "execution_count": 284,
      "metadata": {
        "colab": {
          "base_uri": "https://localhost:8080/"
        },
        "id": "zsWk9xrJH3qC",
        "outputId": "35393f9b-436d-4031-a236-070cc820680b"
      },
      "outputs": [
        {
          "data": {
            "text/plain": [
              "3"
            ]
          },
          "execution_count": 284,
          "metadata": {},
          "output_type": "execute_result"
        }
      ],
      "source": [
        "len(digits)"
      ]
    },
    {
      "cell_type": "code",
      "execution_count": 285,
      "metadata": {
        "colab": {
          "base_uri": "https://localhost:8080/"
        },
        "id": "eAsGSU0tH3qD",
        "outputId": "7ad2a585-bf8c-4e54-f53c-6f5f8ee068d0"
      },
      "outputs": [
        {
          "data": {
            "text/plain": [
              "1"
            ]
          },
          "execution_count": 285,
          "metadata": {},
          "output_type": "execute_result"
        }
      ],
      "source": [
        "# counts the number of instances of that value\n",
        "digits.count(0)"
      ]
    },
    {
      "cell_type": "code",
      "execution_count": 286,
      "metadata": {
        "colab": {
          "base_uri": "https://localhost:8080/"
        },
        "id": "cL5DKSZSH3qD",
        "outputId": "24998feb-442d-43f2-c4de-baa64667a806"
      },
      "outputs": [
        {
          "data": {
            "text/plain": [
              "1"
            ]
          },
          "execution_count": 286,
          "metadata": {},
          "output_type": "execute_result"
        }
      ],
      "source": [
        "# returns the index of the first instance of that value\n",
        "digits.index(1)"
      ]
    },
    {
      "cell_type": "markdown",
      "metadata": {
        "id": "yxX-HzGdH3qD"
      },
      "source": [
        "**Modify a tuple:**"
      ]
    },
    {
      "cell_type": "code",
      "execution_count": 287,
      "metadata": {
        "collapsed": true,
        "id": "a50Ad1kDH3qD"
      },
      "outputs": [],
      "source": [
        "# elements of a tuple cannot be modified (this would throw an error)\n",
        "# digits[2] = 2"
      ]
    },
    {
      "cell_type": "code",
      "execution_count": 288,
      "metadata": {
        "colab": {
          "base_uri": "https://localhost:8080/"
        },
        "id": "FG9AIp1NH3qD",
        "outputId": "51313e01-86eb-444a-ac60-34351e4257d3"
      },
      "outputs": [
        {
          "data": {
            "text/plain": [
              "(0, 1, 'two', 3, 4)"
            ]
          },
          "execution_count": 288,
          "metadata": {},
          "output_type": "execute_result"
        }
      ],
      "source": [
        "# concatenate tuples\n",
        "digits = digits + (3, 4)\n",
        "digits"
      ]
    },
    {
      "cell_type": "markdown",
      "metadata": {
        "id": "v3968ufdH3qD"
      },
      "source": [
        "**Other tuple operations:**"
      ]
    },
    {
      "cell_type": "code",
      "execution_count": 289,
      "metadata": {
        "colab": {
          "base_uri": "https://localhost:8080/"
        },
        "id": "NU8GhWd1H3qD",
        "outputId": "9c5aceee-ec63-4569-a79c-2a3c4e4a9211"
      },
      "outputs": [
        {
          "data": {
            "text/plain": [
              "(3, 4, 3, 4)"
            ]
          },
          "execution_count": 289,
          "metadata": {},
          "output_type": "execute_result"
        }
      ],
      "source": [
        "# create a single tuple with elements repeated (also works with lists)\n",
        "(3, 4) * 2"
      ]
    },
    {
      "cell_type": "code",
      "execution_count": 290,
      "metadata": {
        "colab": {
          "base_uri": "https://localhost:8080/"
        },
        "id": "NR0n3HVZH3qD",
        "outputId": "b41d0443-09e7-41bb-b0bc-a5d1c03d40ae"
      },
      "outputs": [
        {
          "data": {
            "text/plain": [
              "[(10, 40), (20, 30), (20, 60)]"
            ]
          },
          "execution_count": 290,
          "metadata": {},
          "output_type": "execute_result"
        }
      ],
      "source": [
        "# sort a list of tuples\n",
        "tens = [(20, 60), (10, 40), (20, 30)]\n",
        "sorted(tens)    # sorts by first element in tuple, then second element"
      ]
    },
    {
      "cell_type": "code",
      "execution_count": 291,
      "metadata": {
        "colab": {
          "base_uri": "https://localhost:8080/"
        },
        "id": "_yJk5P9HH3qE",
        "outputId": "c676ec3d-26a1-41af-a201-bfa1857fc2cc"
      },
      "outputs": [
        {
          "name": "stdout",
          "output_type": "stream",
          "text": [
            "male\n",
            "10\n",
            "simpson\n"
          ]
        }
      ],
      "source": [
        "# tuple unpacking\n",
        "bart = ('male', 10, 'simpson')    # create a tuple\n",
        "(sex, age, surname) = bart        # assign three values at once\n",
        "print(sex)\n",
        "print(age)\n",
        "print(surname)"
      ]
    },
    {
      "cell_type": "markdown",
      "metadata": {
        "id": "sRohC6bgH3qE"
      },
      "source": [
        "[<a href=\"#Python-Quick-Reference-by-Data-School\">Back to top</a>]"
      ]
    },
    {
      "cell_type": "markdown",
      "metadata": {
        "id": "uTAdcwW9H3qE"
      },
      "source": [
        "## 8. Strings\n",
        "\n",
        "- **String properties:** iterable, immutable"
      ]
    },
    {
      "cell_type": "code",
      "execution_count": 292,
      "metadata": {
        "colab": {
          "base_uri": "https://localhost:8080/",
          "height": 35
        },
        "id": "LWlnx7uRH3qE",
        "outputId": "a1db3b70-cc86-47ca-8778-799eb52c5c54"
      },
      "outputs": [
        {
          "data": {
            "application/vnd.google.colaboratory.intrinsic+json": {
              "type": "string"
            },
            "text/plain": [
              "'42'"
            ]
          },
          "execution_count": 292,
          "metadata": {},
          "output_type": "execute_result"
        }
      ],
      "source": [
        "# convert another data type into a string\n",
        "s = str(42)\n",
        "s"
      ]
    },
    {
      "cell_type": "code",
      "execution_count": 293,
      "metadata": {
        "id": "EN_DXy3YH3qE"
      },
      "outputs": [],
      "source": [
        "# create a string directly\n",
        "s = 'I like you'"
      ]
    },
    {
      "cell_type": "markdown",
      "metadata": {
        "id": "gOxAtFK8H3qE"
      },
      "source": [
        "**Examine a string:**"
      ]
    },
    {
      "cell_type": "code",
      "execution_count": 294,
      "metadata": {
        "colab": {
          "base_uri": "https://localhost:8080/",
          "height": 35
        },
        "id": "kz6njMvAH3qF",
        "outputId": "ae0ccb89-f1a8-4253-b995-c59821b003c7"
      },
      "outputs": [
        {
          "data": {
            "application/vnd.google.colaboratory.intrinsic+json": {
              "type": "string"
            },
            "text/plain": [
              "'I'"
            ]
          },
          "execution_count": 294,
          "metadata": {},
          "output_type": "execute_result"
        }
      ],
      "source": [
        "s[0]"
      ]
    },
    {
      "cell_type": "code",
      "execution_count": 295,
      "metadata": {
        "colab": {
          "base_uri": "https://localhost:8080/"
        },
        "id": "Pc5s0LWsH3qF",
        "outputId": "237da7ce-ab5c-4c04-86d7-3080ed4858e6"
      },
      "outputs": [
        {
          "data": {
            "text/plain": [
              "10"
            ]
          },
          "execution_count": 295,
          "metadata": {},
          "output_type": "execute_result"
        }
      ],
      "source": [
        "len(s)"
      ]
    },
    {
      "cell_type": "markdown",
      "metadata": {
        "id": "sGQFMyDOH3qF"
      },
      "source": [
        "**String slicing is like list slicing:**"
      ]
    },
    {
      "cell_type": "code",
      "execution_count": 296,
      "metadata": {
        "colab": {
          "base_uri": "https://localhost:8080/",
          "height": 35
        },
        "id": "eW2Ohp5KH3qF",
        "outputId": "98aea71c-779f-4e05-9ea0-81962c527bb5"
      },
      "outputs": [
        {
          "data": {
            "application/vnd.google.colaboratory.intrinsic+json": {
              "type": "string"
            },
            "text/plain": [
              "'I like'"
            ]
          },
          "execution_count": 296,
          "metadata": {},
          "output_type": "execute_result"
        }
      ],
      "source": [
        "s[:6]"
      ]
    },
    {
      "cell_type": "code",
      "execution_count": 297,
      "metadata": {
        "colab": {
          "base_uri": "https://localhost:8080/",
          "height": 35
        },
        "id": "ORujWLK6H3qF",
        "outputId": "3f5e9c92-2256-48b0-b415-fec3770d4440"
      },
      "outputs": [
        {
          "data": {
            "application/vnd.google.colaboratory.intrinsic+json": {
              "type": "string"
            },
            "text/plain": [
              "'you'"
            ]
          },
          "execution_count": 297,
          "metadata": {},
          "output_type": "execute_result"
        }
      ],
      "source": [
        "s[7:]"
      ]
    },
    {
      "cell_type": "code",
      "execution_count": 298,
      "metadata": {
        "colab": {
          "base_uri": "https://localhost:8080/",
          "height": 35
        },
        "id": "0W3SDaSCH3qF",
        "outputId": "9257f81e-d92b-4a20-a07a-a7f8d88fa150"
      },
      "outputs": [
        {
          "data": {
            "application/vnd.google.colaboratory.intrinsic+json": {
              "type": "string"
            },
            "text/plain": [
              "'u'"
            ]
          },
          "execution_count": 298,
          "metadata": {},
          "output_type": "execute_result"
        }
      ],
      "source": [
        "s[-1]"
      ]
    },
    {
      "cell_type": "markdown",
      "metadata": {
        "id": "8VkZ0KbSH3qF"
      },
      "source": [
        "**Basic string methods (does not modify the original string):**"
      ]
    },
    {
      "cell_type": "code",
      "execution_count": 299,
      "metadata": {
        "colab": {
          "base_uri": "https://localhost:8080/",
          "height": 35
        },
        "id": "v4pLCrdfH3qF",
        "outputId": "f1ec8338-36ce-4d31-8e6b-2d05032edfc4"
      },
      "outputs": [
        {
          "data": {
            "application/vnd.google.colaboratory.intrinsic+json": {
              "type": "string"
            },
            "text/plain": [
              "'i like you'"
            ]
          },
          "execution_count": 299,
          "metadata": {},
          "output_type": "execute_result"
        }
      ],
      "source": [
        "s.lower()"
      ]
    },
    {
      "cell_type": "code",
      "execution_count": 300,
      "metadata": {
        "colab": {
          "base_uri": "https://localhost:8080/",
          "height": 35
        },
        "id": "xaNQrg8CH3qF",
        "outputId": "85ff15bb-7561-46c8-b584-288c894644e8"
      },
      "outputs": [
        {
          "data": {
            "application/vnd.google.colaboratory.intrinsic+json": {
              "type": "string"
            },
            "text/plain": [
              "'I LIKE YOU'"
            ]
          },
          "execution_count": 300,
          "metadata": {},
          "output_type": "execute_result"
        }
      ],
      "source": [
        "s.upper()"
      ]
    },
    {
      "cell_type": "code",
      "execution_count": 301,
      "metadata": {
        "colab": {
          "base_uri": "https://localhost:8080/"
        },
        "id": "LJ5dSJS2H3qG",
        "outputId": "1c248be4-557e-49f0-b27e-161533446f1c"
      },
      "outputs": [
        {
          "data": {
            "text/plain": [
              "True"
            ]
          },
          "execution_count": 301,
          "metadata": {},
          "output_type": "execute_result"
        }
      ],
      "source": [
        "s.startswith('I')"
      ]
    },
    {
      "cell_type": "code",
      "execution_count": 302,
      "metadata": {
        "colab": {
          "base_uri": "https://localhost:8080/"
        },
        "id": "KrGDnB33H3qG",
        "outputId": "eac65b3e-1a37-4517-9e03-fbd1c9a228a6"
      },
      "outputs": [
        {
          "data": {
            "text/plain": [
              "True"
            ]
          },
          "execution_count": 302,
          "metadata": {},
          "output_type": "execute_result"
        }
      ],
      "source": [
        "s.endswith('you')"
      ]
    },
    {
      "cell_type": "code",
      "execution_count": 303,
      "metadata": {
        "colab": {
          "base_uri": "https://localhost:8080/"
        },
        "id": "MmXUxmxhH3qG",
        "outputId": "cb09c4cd-a54d-4fc6-9488-7393c11d7891"
      },
      "outputs": [
        {
          "data": {
            "text/plain": [
              "False"
            ]
          },
          "execution_count": 303,
          "metadata": {},
          "output_type": "execute_result"
        }
      ],
      "source": [
        "# checks whether every character in the string is a digit\n",
        "s.isdigit()"
      ]
    },
    {
      "cell_type": "code",
      "execution_count": 304,
      "metadata": {
        "colab": {
          "base_uri": "https://localhost:8080/"
        },
        "id": "SyFLqHikH3qG",
        "outputId": "079fbd9f-2020-41ac-d513-dcdbb6cf7d00"
      },
      "outputs": [
        {
          "data": {
            "text/plain": [
              "2"
            ]
          },
          "execution_count": 304,
          "metadata": {},
          "output_type": "execute_result"
        }
      ],
      "source": [
        "# returns index of first occurrence, but doesn't support regex\n",
        "s.find('like')"
      ]
    },
    {
      "cell_type": "code",
      "execution_count": 305,
      "metadata": {
        "colab": {
          "base_uri": "https://localhost:8080/"
        },
        "id": "G9-mkF29H3qG",
        "outputId": "862fb8ec-b5c4-4450-bcad-fc114773b4e0"
      },
      "outputs": [
        {
          "data": {
            "text/plain": [
              "-1"
            ]
          },
          "execution_count": 305,
          "metadata": {},
          "output_type": "execute_result"
        }
      ],
      "source": [
        "# returns -1 since not found\n",
        "s.find('hate')"
      ]
    },
    {
      "cell_type": "code",
      "execution_count": 306,
      "metadata": {
        "colab": {
          "base_uri": "https://localhost:8080/",
          "height": 35
        },
        "id": "b08qBQHdH3qH",
        "outputId": "fa508266-df8b-4927-d053-a49aba06c9bd"
      },
      "outputs": [
        {
          "data": {
            "application/vnd.google.colaboratory.intrinsic+json": {
              "type": "string"
            },
            "text/plain": [
              "'I love you'"
            ]
          },
          "execution_count": 306,
          "metadata": {},
          "output_type": "execute_result"
        }
      ],
      "source": [
        "# replaces all instances of 'like' with 'love'\n",
        "s.replace('like', 'love')"
      ]
    },
    {
      "cell_type": "markdown",
      "metadata": {
        "id": "6m2Vvf9HH3qH"
      },
      "source": [
        "**Split a string:**"
      ]
    },
    {
      "cell_type": "code",
      "execution_count": 307,
      "metadata": {
        "colab": {
          "base_uri": "https://localhost:8080/"
        },
        "id": "OLdImOwvH3qH",
        "outputId": "3fba72e6-f3b3-4625-f1d4-5c93bad59894"
      },
      "outputs": [
        {
          "data": {
            "text/plain": [
              "['I', 'like', 'you']"
            ]
          },
          "execution_count": 307,
          "metadata": {},
          "output_type": "execute_result"
        }
      ],
      "source": [
        "# split a string into a list of substrings separated by a delimiter\n",
        "s.split(' ')"
      ]
    },
    {
      "cell_type": "code",
      "execution_count": 308,
      "metadata": {
        "colab": {
          "base_uri": "https://localhost:8080/"
        },
        "id": "eoS49ai5H3qH",
        "outputId": "a481d2e2-a22c-49bf-d0e1-f245c4868e9a"
      },
      "outputs": [
        {
          "data": {
            "text/plain": [
              "['I', 'like', 'you']"
            ]
          },
          "execution_count": 308,
          "metadata": {},
          "output_type": "execute_result"
        }
      ],
      "source": [
        "# equivalent (since space is the default delimiter)\n",
        "s.split()"
      ]
    },
    {
      "cell_type": "code",
      "execution_count": 309,
      "metadata": {
        "colab": {
          "base_uri": "https://localhost:8080/"
        },
        "id": "aUYySpHaH3qH",
        "outputId": "c15e4ff5-d180-4862-82ce-dfa0f697a2ac"
      },
      "outputs": [
        {
          "data": {
            "text/plain": [
              "['a', ' an', ' the']"
            ]
          },
          "execution_count": 309,
          "metadata": {},
          "output_type": "execute_result"
        }
      ],
      "source": [
        "s2 = 'a, an, the'\n",
        "s2.split(',')"
      ]
    },
    {
      "cell_type": "markdown",
      "metadata": {
        "id": "LXaN7DYhH3qH"
      },
      "source": [
        "**Join or concatenate strings:**"
      ]
    },
    {
      "cell_type": "code",
      "execution_count": 310,
      "metadata": {
        "colab": {
          "base_uri": "https://localhost:8080/",
          "height": 35
        },
        "id": "-iJgQXIsH3qH",
        "outputId": "96d0ec38-d53e-476d-b543-0df05f05996c"
      },
      "outputs": [
        {
          "data": {
            "application/vnd.google.colaboratory.intrinsic+json": {
              "type": "string"
            },
            "text/plain": [
              "'larry curly moe'"
            ]
          },
          "execution_count": 310,
          "metadata": {},
          "output_type": "execute_result"
        }
      ],
      "source": [
        "# join a list of strings into one string using a delimiter\n",
        "stooges = ['larry', 'curly', 'moe']\n",
        "' '.join(stooges)"
      ]
    },
    {
      "cell_type": "code",
      "execution_count": 311,
      "metadata": {
        "colab": {
          "base_uri": "https://localhost:8080/",
          "height": 35
        },
        "id": "N6AWvp_UH3qI",
        "outputId": "8cad374c-85b6-41b7-fa46-f453daec6b5c",
        "scrolled": true
      },
      "outputs": [
        {
          "data": {
            "application/vnd.google.colaboratory.intrinsic+json": {
              "type": "string"
            },
            "text/plain": [
              "'The meaning of life is 42'"
            ]
          },
          "execution_count": 311,
          "metadata": {},
          "output_type": "execute_result"
        }
      ],
      "source": [
        "# concatenate strings\n",
        "s3 = 'The meaning of life is'\n",
        "s4 = '42'\n",
        "s3 + ' ' + s4"
      ]
    },
    {
      "cell_type": "markdown",
      "metadata": {
        "id": "cb9rALoTH3qI"
      },
      "source": [
        "**Remove whitespace from the start and end of a string:**"
      ]
    },
    {
      "cell_type": "code",
      "execution_count": 312,
      "metadata": {
        "colab": {
          "base_uri": "https://localhost:8080/",
          "height": 35
        },
        "id": "QPhgbpjvH3qI",
        "outputId": "53acf565-9d0e-44ef-f01e-a4a108373c7d"
      },
      "outputs": [
        {
          "data": {
            "application/vnd.google.colaboratory.intrinsic+json": {
              "type": "string"
            },
            "text/plain": [
              "'ham and cheese'"
            ]
          },
          "execution_count": 312,
          "metadata": {},
          "output_type": "execute_result"
        }
      ],
      "source": [
        "s5 = '  ham and cheese  '\n",
        "s5.strip()"
      ]
    },
    {
      "cell_type": "markdown",
      "metadata": {
        "id": "huCvavX-H3qI"
      },
      "source": [
        "**String substitutions:**"
      ]
    },
    {
      "cell_type": "code",
      "execution_count": 313,
      "metadata": {
        "colab": {
          "base_uri": "https://localhost:8080/",
          "height": 35
        },
        "id": "2J2IT8zAH3qI",
        "outputId": "ab5a2d64-bd0d-447a-ed94-4d3d3547a5bd"
      },
      "outputs": [
        {
          "data": {
            "application/vnd.google.colaboratory.intrinsic+json": {
              "type": "string"
            },
            "text/plain": [
              "'raining cats and dogs'"
            ]
          },
          "execution_count": 313,
          "metadata": {},
          "output_type": "execute_result"
        }
      ],
      "source": [
        "# old way\n",
        "'raining %s and %s' % ('cats', 'dogs')"
      ]
    },
    {
      "cell_type": "code",
      "execution_count": 314,
      "metadata": {
        "colab": {
          "base_uri": "https://localhost:8080/",
          "height": 35
        },
        "id": "zl13J_BwH3qI",
        "outputId": "f2cf4a1b-f4a3-42bf-9f1b-fb5912c8e9ba"
      },
      "outputs": [
        {
          "data": {
            "application/vnd.google.colaboratory.intrinsic+json": {
              "type": "string"
            },
            "text/plain": [
              "'raining cats and dogs'"
            ]
          },
          "execution_count": 314,
          "metadata": {},
          "output_type": "execute_result"
        }
      ],
      "source": [
        "# new way\n",
        "'raining {} and {}'.format('cats', 'dogs')"
      ]
    },
    {
      "cell_type": "code",
      "execution_count": 315,
      "metadata": {
        "colab": {
          "base_uri": "https://localhost:8080/",
          "height": 35
        },
        "id": "SYj2yVDuH3qI",
        "outputId": "e072b2db-8992-43cd-aef3-991ab6789494",
        "scrolled": true
      },
      "outputs": [
        {
          "data": {
            "application/vnd.google.colaboratory.intrinsic+json": {
              "type": "string"
            },
            "text/plain": [
              "'raining cats and dogs'"
            ]
          },
          "execution_count": 315,
          "metadata": {},
          "output_type": "execute_result"
        }
      ],
      "source": [
        "# new way (using named arguments)\n",
        "'raining {arg1} and {arg2}'.format(arg1='cats', arg2='dogs')"
      ]
    },
    {
      "cell_type": "markdown",
      "metadata": {
        "id": "I2k00McXH3qJ"
      },
      "source": [
        "**String formatting ([more examples](https://mkaz.tech/python-string-format.html)):**"
      ]
    },
    {
      "cell_type": "code",
      "execution_count": 316,
      "metadata": {
        "colab": {
          "base_uri": "https://localhost:8080/",
          "height": 35
        },
        "id": "FAOKwByFH3qJ",
        "outputId": "f415566e-1d52-4c46-8714-9f8be3153a0a"
      },
      "outputs": [
        {
          "data": {
            "application/vnd.google.colaboratory.intrinsic+json": {
              "type": "string"
            },
            "text/plain": [
              "'pi is 3.14'"
            ]
          },
          "execution_count": 316,
          "metadata": {},
          "output_type": "execute_result"
        }
      ],
      "source": [
        "# use 2 decimal places\n",
        "'pi is {:.2f}'.format(3.14159)"
      ]
    },
    {
      "cell_type": "markdown",
      "metadata": {
        "id": "C2KgxowJH3qJ"
      },
      "source": [
        "**Normal strings versus raw strings:**"
      ]
    },
    {
      "cell_type": "code",
      "execution_count": 317,
      "metadata": {
        "colab": {
          "base_uri": "https://localhost:8080/"
        },
        "id": "Rq-6PjUTH3qJ",
        "outputId": "96fedbe5-145b-4341-b35a-56806154237a"
      },
      "outputs": [
        {
          "name": "stdout",
          "output_type": "stream",
          "text": [
            "first line\n",
            "second line\n"
          ]
        }
      ],
      "source": [
        "# normal strings allow for escaped characters\n",
        "print('first line\\nsecond line')"
      ]
    },
    {
      "cell_type": "code",
      "execution_count": 318,
      "metadata": {
        "colab": {
          "base_uri": "https://localhost:8080/"
        },
        "id": "KfZg10xQH3qJ",
        "outputId": "037e6f13-48bc-4352-f3dd-d31288ba57d3"
      },
      "outputs": [
        {
          "name": "stdout",
          "output_type": "stream",
          "text": [
            "first line\\nfirst line\n"
          ]
        }
      ],
      "source": [
        "# raw strings treat backslashes as literal characters\n",
        "print(r'first line\\nfirst line')"
      ]
    },
    {
      "cell_type": "markdown",
      "metadata": {
        "id": "axdVaIjqH3qJ"
      },
      "source": [
        "[<a href=\"#Python-Quick-Reference-by-Data-School\">Back to top</a>]"
      ]
    },
    {
      "cell_type": "markdown",
      "metadata": {
        "id": "m12GLQmhH3qJ"
      },
      "source": [
        "## 9. Dictionaries\n",
        "\n",
        "- **Dictionary properties:** unordered, iterable, mutable, can contain multiple data types\n",
        "- Made of key-value pairs\n",
        "- Keys must be unique, and can be strings, numbers, or tuples\n",
        "- Values can be any type"
      ]
    },
    {
      "cell_type": "code",
      "execution_count": 319,
      "metadata": {
        "collapsed": true,
        "id": "vzgp1Cj-H3qJ"
      },
      "outputs": [],
      "source": [
        "# create an empty dictionary (two ways)\n",
        "empty_dict = {}\n",
        "empty_dict = dict()"
      ]
    },
    {
      "cell_type": "code",
      "execution_count": 320,
      "metadata": {
        "colab": {
          "base_uri": "https://localhost:8080/"
        },
        "id": "cQOEX7fzH3qJ",
        "outputId": "d12c97b9-208f-40bc-b313-580ca6b15f75"
      },
      "outputs": [
        {
          "data": {
            "text/plain": [
              "{'dad': 'homer', 'mom': 'marge', 'size': 6}"
            ]
          },
          "execution_count": 320,
          "metadata": {},
          "output_type": "execute_result"
        }
      ],
      "source": [
        "# create a dictionary (two ways)\n",
        "family = {'dad':'homer', 'mom':'marge', 'size':6}\n",
        "family = dict(dad='homer', mom='marge', size=6)\n",
        "family"
      ]
    },
    {
      "cell_type": "code",
      "execution_count": 321,
      "metadata": {
        "colab": {
          "base_uri": "https://localhost:8080/"
        },
        "id": "O2R94rhkH3qJ",
        "outputId": "cb269594-7563-4b0d-ac81-4cf6e977b5e4"
      },
      "outputs": [
        {
          "data": {
            "text/plain": [
              "{'dad': 'homer', 'mom': 'marge', 'size': 6}"
            ]
          },
          "execution_count": 321,
          "metadata": {},
          "output_type": "execute_result"
        }
      ],
      "source": [
        "# convert a list of tuples into a dictionary\n",
        "list_of_tuples = [('dad', 'homer'), ('mom', 'marge'), ('size', 6)]\n",
        "family = dict(list_of_tuples)\n",
        "family"
      ]
    },
    {
      "cell_type": "markdown",
      "metadata": {
        "id": "zjkPokaCH3qK"
      },
      "source": [
        "**Examine a dictionary:**"
      ]
    },
    {
      "cell_type": "code",
      "execution_count": 322,
      "metadata": {
        "colab": {
          "base_uri": "https://localhost:8080/",
          "height": 35
        },
        "id": "SHrsuQYOH3qK",
        "outputId": "ab069251-6896-4a05-bfba-e3ee1ada389d"
      },
      "outputs": [
        {
          "data": {
            "application/vnd.google.colaboratory.intrinsic+json": {
              "type": "string"
            },
            "text/plain": [
              "'homer'"
            ]
          },
          "execution_count": 322,
          "metadata": {},
          "output_type": "execute_result"
        }
      ],
      "source": [
        "# pass a key to return its value\n",
        "family['dad']"
      ]
    },
    {
      "cell_type": "code",
      "execution_count": 323,
      "metadata": {
        "colab": {
          "base_uri": "https://localhost:8080/"
        },
        "id": "RccfqF_XH3qK",
        "outputId": "e52954d1-227c-4846-836f-22f0abf5f442"
      },
      "outputs": [
        {
          "data": {
            "text/plain": [
              "3"
            ]
          },
          "execution_count": 323,
          "metadata": {},
          "output_type": "execute_result"
        }
      ],
      "source": [
        "# return the number of key-value pairs\n",
        "len(family)"
      ]
    },
    {
      "cell_type": "code",
      "execution_count": 324,
      "metadata": {
        "colab": {
          "base_uri": "https://localhost:8080/"
        },
        "id": "5DGa-fMoH3qK",
        "outputId": "0186420c-c725-49ec-eacc-aee71fa7b7ed"
      },
      "outputs": [
        {
          "data": {
            "text/plain": [
              "True"
            ]
          },
          "execution_count": 324,
          "metadata": {},
          "output_type": "execute_result"
        }
      ],
      "source": [
        "# check if key exists in dictionary\n",
        "'mom' in family"
      ]
    },
    {
      "cell_type": "code",
      "execution_count": 325,
      "metadata": {
        "colab": {
          "base_uri": "https://localhost:8080/"
        },
        "id": "f-xDlXiUH3qK",
        "outputId": "3b0a99e4-2ae5-415b-f648-60a8ea749fc4"
      },
      "outputs": [
        {
          "data": {
            "text/plain": [
              "False"
            ]
          },
          "execution_count": 325,
          "metadata": {},
          "output_type": "execute_result"
        }
      ],
      "source": [
        "# dictionary values are not checked\n",
        "'marge' in family"
      ]
    },
    {
      "cell_type": "code",
      "execution_count": 326,
      "metadata": {
        "colab": {
          "base_uri": "https://localhost:8080/"
        },
        "id": "X5lNjk_NH3qK",
        "outputId": "bcc15983-e06a-413f-ce80-56954c3ad074"
      },
      "outputs": [
        {
          "data": {
            "text/plain": [
              "dict_keys(['dad', 'mom', 'size'])"
            ]
          },
          "execution_count": 326,
          "metadata": {},
          "output_type": "execute_result"
        }
      ],
      "source": [
        "# returns a list of keys (Python 2) or an iterable view (Python 3)\n",
        "family.keys()"
      ]
    },
    {
      "cell_type": "code",
      "execution_count": 327,
      "metadata": {
        "colab": {
          "base_uri": "https://localhost:8080/"
        },
        "id": "8_zdx5juH3qK",
        "outputId": "0dc41d64-e657-4dca-9efe-642689808407"
      },
      "outputs": [
        {
          "data": {
            "text/plain": [
              "dict_values(['homer', 'marge', 6])"
            ]
          },
          "execution_count": 327,
          "metadata": {},
          "output_type": "execute_result"
        }
      ],
      "source": [
        "# returns a list of values (Python 2) or an iterable view (Python 3)\n",
        "family.values()"
      ]
    },
    {
      "cell_type": "code",
      "execution_count": 328,
      "metadata": {
        "colab": {
          "base_uri": "https://localhost:8080/"
        },
        "id": "NijERX_8H3qK",
        "outputId": "8628cf2b-8aba-4ae0-d701-777e5f510234"
      },
      "outputs": [
        {
          "data": {
            "text/plain": [
              "dict_items([('dad', 'homer'), ('mom', 'marge'), ('size', 6)])"
            ]
          },
          "execution_count": 328,
          "metadata": {},
          "output_type": "execute_result"
        }
      ],
      "source": [
        "# returns a list of key-value pairs (Python 2) or an iterable view (Python 3)\n",
        "family.items()"
      ]
    },
    {
      "cell_type": "markdown",
      "metadata": {
        "id": "RTCPzSOeH3qK"
      },
      "source": [
        "**Modify a dictionary (does not return the dictionary):**"
      ]
    },
    {
      "cell_type": "code",
      "execution_count": 329,
      "metadata": {
        "colab": {
          "base_uri": "https://localhost:8080/"
        },
        "id": "cLJBA6A7H3qL",
        "outputId": "a134e8fb-ee13-48cd-e242-2c1d8b76b37a"
      },
      "outputs": [
        {
          "data": {
            "text/plain": [
              "{'dad': 'homer', 'mom': 'marge', 'size': 6, 'cat': 'snowball'}"
            ]
          },
          "execution_count": 329,
          "metadata": {},
          "output_type": "execute_result"
        }
      ],
      "source": [
        "# add a new entry\n",
        "family['cat'] = 'snowball'\n",
        "family"
      ]
    },
    {
      "cell_type": "code",
      "execution_count": 330,
      "metadata": {
        "colab": {
          "base_uri": "https://localhost:8080/"
        },
        "id": "HCdA9QjDH3qL",
        "outputId": "0a7cc55c-a618-4ef3-87fc-9827b2098b20"
      },
      "outputs": [
        {
          "data": {
            "text/plain": [
              "{'dad': 'homer', 'mom': 'marge', 'size': 6, 'cat': 'snowball ii'}"
            ]
          },
          "execution_count": 330,
          "metadata": {},
          "output_type": "execute_result"
        }
      ],
      "source": [
        "# edit an existing entry\n",
        "family['cat'] = 'snowball ii'\n",
        "family"
      ]
    },
    {
      "cell_type": "code",
      "execution_count": 331,
      "metadata": {
        "colab": {
          "base_uri": "https://localhost:8080/"
        },
        "id": "Ap47h1R8H3qL",
        "outputId": "04e4c59d-5789-4b71-dbdc-d983df8f3abb"
      },
      "outputs": [
        {
          "data": {
            "text/plain": [
              "{'dad': 'homer', 'mom': 'marge', 'size': 6}"
            ]
          },
          "execution_count": 331,
          "metadata": {},
          "output_type": "execute_result"
        }
      ],
      "source": [
        "# delete an entry\n",
        "del family['cat']\n",
        "family"
      ]
    },
    {
      "cell_type": "code",
      "execution_count": 332,
      "metadata": {
        "colab": {
          "base_uri": "https://localhost:8080/"
        },
        "id": "kaUz4l76H3qL",
        "outputId": "81ab4a11-ee15-4d64-d8cd-94faf026ae3e"
      },
      "outputs": [
        {
          "data": {
            "text/plain": [
              "{'dad': 'homer', 'mom': 'marge', 'size': 6, 'kids': ['bart', 'lisa']}"
            ]
          },
          "execution_count": 332,
          "metadata": {},
          "output_type": "execute_result"
        }
      ],
      "source": [
        "# dictionary value can be a list\n",
        "family['kids'] = ['bart', 'lisa']\n",
        "family"
      ]
    },
    {
      "cell_type": "code",
      "execution_count": 333,
      "metadata": {
        "colab": {
          "base_uri": "https://localhost:8080/",
          "height": 35
        },
        "id": "cZMFPG2YH3qL",
        "outputId": "62341445-71a7-42c4-834e-649ae7758c3f"
      },
      "outputs": [
        {
          "data": {
            "application/vnd.google.colaboratory.intrinsic+json": {
              "type": "string"
            },
            "text/plain": [
              "'homer'"
            ]
          },
          "execution_count": 333,
          "metadata": {},
          "output_type": "execute_result"
        }
      ],
      "source": [
        "# remove an entry and return the value\n",
        "family.pop('dad')"
      ]
    },
    {
      "cell_type": "code",
      "execution_count": 334,
      "metadata": {
        "colab": {
          "base_uri": "https://localhost:8080/"
        },
        "id": "F4zoVNgzH3qL",
        "outputId": "86b22dd0-3abe-4404-de66-9b1cefb1e6bf"
      },
      "outputs": [
        {
          "data": {
            "text/plain": [
              "{'mom': 'marge',\n",
              " 'size': 6,\n",
              " 'kids': ['bart', 'lisa'],\n",
              " 'baby': 'maggie',\n",
              " 'grandpa': 'abe'}"
            ]
          },
          "execution_count": 334,
          "metadata": {},
          "output_type": "execute_result"
        }
      ],
      "source": [
        "# add multiple entries\n",
        "family.update({'baby':'maggie', 'grandpa':'abe'})\n",
        "family"
      ]
    },
    {
      "cell_type": "markdown",
      "metadata": {
        "id": "YCdTTA51H3qL"
      },
      "source": [
        "**Access values more safely with `get`:**"
      ]
    },
    {
      "cell_type": "code",
      "execution_count": 335,
      "metadata": {
        "colab": {
          "base_uri": "https://localhost:8080/",
          "height": 35
        },
        "id": "b6Rpdny0H3qL",
        "outputId": "20a877b4-c817-4665-8148-6a59fa34586b"
      },
      "outputs": [
        {
          "data": {
            "application/vnd.google.colaboratory.intrinsic+json": {
              "type": "string"
            },
            "text/plain": [
              "'marge'"
            ]
          },
          "execution_count": 335,
          "metadata": {},
          "output_type": "execute_result"
        }
      ],
      "source": [
        "family['mom']"
      ]
    },
    {
      "cell_type": "code",
      "execution_count": 336,
      "metadata": {
        "colab": {
          "base_uri": "https://localhost:8080/",
          "height": 35
        },
        "id": "yuE2dZYeH3qL",
        "outputId": "df838de4-29f9-4218-9502-45e299e732b4"
      },
      "outputs": [
        {
          "data": {
            "application/vnd.google.colaboratory.intrinsic+json": {
              "type": "string"
            },
            "text/plain": [
              "'marge'"
            ]
          },
          "execution_count": 336,
          "metadata": {},
          "output_type": "execute_result"
        }
      ],
      "source": [
        "# equivalent to a dictionary lookup\n",
        "family.get('mom')"
      ]
    },
    {
      "cell_type": "code",
      "execution_count": 337,
      "metadata": {
        "id": "XoZhH8QDH3qM"
      },
      "outputs": [],
      "source": [
        "# this would throw an error since the key does not exist\n",
        "# family['grandma']"
      ]
    },
    {
      "cell_type": "code",
      "execution_count": 338,
      "metadata": {
        "collapsed": true,
        "id": "xtgGZhZAH3qM"
      },
      "outputs": [],
      "source": [
        "# return None if not found\n",
        "family.get('grandma')"
      ]
    },
    {
      "cell_type": "code",
      "execution_count": 339,
      "metadata": {
        "colab": {
          "base_uri": "https://localhost:8080/",
          "height": 35
        },
        "id": "S9Yx9-ljH3qM",
        "outputId": "1d14692d-9831-4f7d-e0e2-27e745ef36ab"
      },
      "outputs": [
        {
          "data": {
            "application/vnd.google.colaboratory.intrinsic+json": {
              "type": "string"
            },
            "text/plain": [
              "'not found'"
            ]
          },
          "execution_count": 339,
          "metadata": {},
          "output_type": "execute_result"
        }
      ],
      "source": [
        "# provide a default return value if not found\n",
        "family.get('grandma', 'not found')"
      ]
    },
    {
      "cell_type": "markdown",
      "metadata": {
        "id": "LOjWErUkH3qM"
      },
      "source": [
        "**Access a list element within a dictionary:**"
      ]
    },
    {
      "cell_type": "code",
      "execution_count": 340,
      "metadata": {
        "colab": {
          "base_uri": "https://localhost:8080/",
          "height": 35
        },
        "id": "swLZ-fgXH3qM",
        "outputId": "ba0bae44-e500-4086-ffb5-148ca6fb1fa7"
      },
      "outputs": [
        {
          "data": {
            "application/vnd.google.colaboratory.intrinsic+json": {
              "type": "string"
            },
            "text/plain": [
              "'bart'"
            ]
          },
          "execution_count": 340,
          "metadata": {},
          "output_type": "execute_result"
        }
      ],
      "source": [
        "family['kids'][0]"
      ]
    },
    {
      "cell_type": "code",
      "execution_count": 341,
      "metadata": {
        "colab": {
          "base_uri": "https://localhost:8080/"
        },
        "id": "fy0bSdu6H3qM",
        "outputId": "bfdab2be-f5e0-4bd1-fe7a-63b2e14bafb2"
      },
      "outputs": [
        {
          "data": {
            "text/plain": [
              "{'mom': 'marge',\n",
              " 'size': 6,\n",
              " 'kids': ['bart'],\n",
              " 'baby': 'maggie',\n",
              " 'grandpa': 'abe'}"
            ]
          },
          "execution_count": 341,
          "metadata": {},
          "output_type": "execute_result"
        }
      ],
      "source": [
        "family['kids'].remove('lisa')\n",
        "family"
      ]
    },
    {
      "cell_type": "markdown",
      "metadata": {
        "id": "m5fJ4-N1H3qM"
      },
      "source": [
        "**String substitution using a dictionary:**"
      ]
    },
    {
      "cell_type": "code",
      "execution_count": 342,
      "metadata": {
        "colab": {
          "base_uri": "https://localhost:8080/",
          "height": 35
        },
        "id": "9hOMnUWjH3qM",
        "outputId": "bfbf264c-40d6-42e8-a57e-770bf6ec2e8e"
      },
      "outputs": [
        {
          "data": {
            "application/vnd.google.colaboratory.intrinsic+json": {
              "type": "string"
            },
            "text/plain": [
              "'youngest child is maggie'"
            ]
          },
          "execution_count": 342,
          "metadata": {},
          "output_type": "execute_result"
        }
      ],
      "source": [
        "'youngest child is %(baby)s' % family"
      ]
    },
    {
      "cell_type": "markdown",
      "metadata": {
        "id": "fNuyhXJeH3qN"
      },
      "source": [
        "[<a href=\"#Python-Quick-Reference-by-Data-School\">Back to top</a>]"
      ]
    },
    {
      "cell_type": "markdown",
      "metadata": {
        "id": "MNHCy4Q3H3qN"
      },
      "source": [
        "## 10. Sets\n",
        "\n",
        "- **Set properties:** unordered, iterable, mutable, can contain multiple data types\n",
        "- Made of unique elements (strings, numbers, or tuples)\n",
        "- Like dictionaries, but with keys only (no values)"
      ]
    },
    {
      "cell_type": "code",
      "execution_count": 343,
      "metadata": {
        "collapsed": true,
        "id": "Ih9BvPJ1H3qN"
      },
      "outputs": [],
      "source": [
        "# create an empty set\n",
        "empty_set = set()"
      ]
    },
    {
      "cell_type": "code",
      "execution_count": 344,
      "metadata": {
        "collapsed": true,
        "id": "5mJkH7M_H3qN"
      },
      "outputs": [],
      "source": [
        "# create a set directly\n",
        "languages = {'python', 'r', 'java'}"
      ]
    },
    {
      "cell_type": "code",
      "execution_count": 345,
      "metadata": {
        "collapsed": true,
        "id": "c2wV8PA0H3qN"
      },
      "outputs": [],
      "source": [
        "# create a set from a list\n",
        "snakes = set(['cobra', 'viper', 'python'])"
      ]
    },
    {
      "cell_type": "markdown",
      "metadata": {
        "id": "KFlghTo-H3qN"
      },
      "source": [
        "**Examine a set:**"
      ]
    },
    {
      "cell_type": "code",
      "execution_count": 346,
      "metadata": {
        "colab": {
          "base_uri": "https://localhost:8080/"
        },
        "id": "C_88STPTH3qN",
        "outputId": "5df2a96c-a391-4d45-d761-6e3599570ac3"
      },
      "outputs": [
        {
          "data": {
            "text/plain": [
              "3"
            ]
          },
          "execution_count": 346,
          "metadata": {},
          "output_type": "execute_result"
        }
      ],
      "source": [
        "len(languages)"
      ]
    },
    {
      "cell_type": "code",
      "execution_count": 347,
      "metadata": {
        "colab": {
          "base_uri": "https://localhost:8080/"
        },
        "id": "_IvatddnH3qN",
        "outputId": "c213beed-f7cf-45af-8371-75f6afeabaa3"
      },
      "outputs": [
        {
          "data": {
            "text/plain": [
              "True"
            ]
          },
          "execution_count": 347,
          "metadata": {},
          "output_type": "execute_result"
        }
      ],
      "source": [
        "'python' in languages"
      ]
    },
    {
      "cell_type": "markdown",
      "metadata": {
        "id": "kCnIK1DGH3qN"
      },
      "source": [
        "**Set operations:**"
      ]
    },
    {
      "cell_type": "code",
      "execution_count": 348,
      "metadata": {
        "colab": {
          "base_uri": "https://localhost:8080/"
        },
        "id": "DBjhbGmCH3qO",
        "outputId": "390733b3-5bea-4294-9657-3fdaf0a372f6"
      },
      "outputs": [
        {
          "data": {
            "text/plain": [
              "{'python'}"
            ]
          },
          "execution_count": 348,
          "metadata": {},
          "output_type": "execute_result"
        }
      ],
      "source": [
        "# intersection\n",
        "languages & snakes"
      ]
    },
    {
      "cell_type": "code",
      "execution_count": 349,
      "metadata": {
        "colab": {
          "base_uri": "https://localhost:8080/"
        },
        "id": "3_6weJsvH3qO",
        "outputId": "cd63682c-2402-4698-f709-f5348b54d213"
      },
      "outputs": [
        {
          "data": {
            "text/plain": [
              "{'cobra', 'java', 'python', 'r', 'viper'}"
            ]
          },
          "execution_count": 349,
          "metadata": {},
          "output_type": "execute_result"
        }
      ],
      "source": [
        "# union\n",
        "languages | snakes"
      ]
    },
    {
      "cell_type": "code",
      "execution_count": 350,
      "metadata": {
        "colab": {
          "base_uri": "https://localhost:8080/"
        },
        "id": "CFAGX7rNH3qO",
        "outputId": "16021b5a-0de9-46f2-da56-c582003a1ebf"
      },
      "outputs": [
        {
          "data": {
            "text/plain": [
              "{'java', 'r'}"
            ]
          },
          "execution_count": 350,
          "metadata": {},
          "output_type": "execute_result"
        }
      ],
      "source": [
        "# set difference\n",
        "languages - snakes"
      ]
    },
    {
      "cell_type": "code",
      "execution_count": 351,
      "metadata": {
        "colab": {
          "base_uri": "https://localhost:8080/"
        },
        "id": "GTNPNtf_H3qO",
        "outputId": "61a84851-3c52-4566-be0a-70332d889b36"
      },
      "outputs": [
        {
          "data": {
            "text/plain": [
              "{'cobra', 'viper'}"
            ]
          },
          "execution_count": 351,
          "metadata": {},
          "output_type": "execute_result"
        }
      ],
      "source": [
        "# set difference\n",
        "snakes - languages"
      ]
    },
    {
      "cell_type": "markdown",
      "metadata": {
        "id": "-LNfR2g0H3qO"
      },
      "source": [
        "**Modify a set (does not return the set):**"
      ]
    },
    {
      "cell_type": "code",
      "execution_count": 352,
      "metadata": {
        "colab": {
          "base_uri": "https://localhost:8080/"
        },
        "id": "dJNvjPkiH3qO",
        "outputId": "98e5ffd0-2dba-44ec-e92b-10ceb1de5b21"
      },
      "outputs": [
        {
          "data": {
            "text/plain": [
              "{'java', 'python', 'r', 'sql'}"
            ]
          },
          "execution_count": 352,
          "metadata": {},
          "output_type": "execute_result"
        }
      ],
      "source": [
        "# add a new element\n",
        "languages.add('sql')\n",
        "languages"
      ]
    },
    {
      "cell_type": "code",
      "execution_count": 353,
      "metadata": {
        "colab": {
          "base_uri": "https://localhost:8080/"
        },
        "id": "PWfGRPhVH3qO",
        "outputId": "e052e9eb-dbf1-415a-99b3-b02507fa7a3b"
      },
      "outputs": [
        {
          "data": {
            "text/plain": [
              "{'java', 'python', 'r', 'sql'}"
            ]
          },
          "execution_count": 353,
          "metadata": {},
          "output_type": "execute_result"
        }
      ],
      "source": [
        "# try to add an existing element (ignored, no error)\n",
        "languages.add('r')\n",
        "languages"
      ]
    },
    {
      "cell_type": "code",
      "execution_count": 354,
      "metadata": {
        "colab": {
          "base_uri": "https://localhost:8080/"
        },
        "id": "j_UFlOrvH3qP",
        "outputId": "e2ace95c-e075-4c0b-99aa-dfa0f876531f"
      },
      "outputs": [
        {
          "data": {
            "text/plain": [
              "{'python', 'r', 'sql'}"
            ]
          },
          "execution_count": 354,
          "metadata": {},
          "output_type": "execute_result"
        }
      ],
      "source": [
        "# remove an element\n",
        "languages.remove('java')\n",
        "languages"
      ]
    },
    {
      "cell_type": "code",
      "execution_count": 355,
      "metadata": {
        "id": "eB1RueLeH3qP"
      },
      "outputs": [],
      "source": [
        "# try to remove a non-existing element (this would throw an error)\n",
        "# languages.remove('c')"
      ]
    },
    {
      "cell_type": "code",
      "execution_count": 356,
      "metadata": {
        "colab": {
          "base_uri": "https://localhost:8080/"
        },
        "id": "VUIwCZdOH3qP",
        "outputId": "71aa8d78-94ad-4e63-b8bf-97650fb7af04"
      },
      "outputs": [
        {
          "data": {
            "text/plain": [
              "{'python', 'r', 'sql'}"
            ]
          },
          "execution_count": 356,
          "metadata": {},
          "output_type": "execute_result"
        }
      ],
      "source": [
        "# remove an element if present, but ignored otherwise\n",
        "languages.discard('c')\n",
        "languages"
      ]
    },
    {
      "cell_type": "code",
      "execution_count": 357,
      "metadata": {
        "colab": {
          "base_uri": "https://localhost:8080/",
          "height": 35
        },
        "id": "Fcia6I-5H3qP",
        "outputId": "bf94888b-8b41-424c-8b28-c587777e9e15"
      },
      "outputs": [
        {
          "data": {
            "application/vnd.google.colaboratory.intrinsic+json": {
              "type": "string"
            },
            "text/plain": [
              "'python'"
            ]
          },
          "execution_count": 357,
          "metadata": {},
          "output_type": "execute_result"
        }
      ],
      "source": [
        "# remove and return an arbitrary element\n",
        "languages.pop()"
      ]
    },
    {
      "cell_type": "code",
      "execution_count": 358,
      "metadata": {
        "colab": {
          "base_uri": "https://localhost:8080/"
        },
        "id": "N3KtHg-IH3qP",
        "outputId": "1637ee80-4241-4be9-ed9d-cc4ed732a4fb"
      },
      "outputs": [
        {
          "data": {
            "text/plain": [
              "set()"
            ]
          },
          "execution_count": 358,
          "metadata": {},
          "output_type": "execute_result"
        }
      ],
      "source": [
        "# remove all elements\n",
        "languages.clear()\n",
        "languages"
      ]
    },
    {
      "cell_type": "code",
      "execution_count": 359,
      "metadata": {
        "colab": {
          "base_uri": "https://localhost:8080/"
        },
        "id": "7oSsWR1wH3qP",
        "outputId": "2a60fea0-c2dd-41c5-9fcc-72b371f5259d"
      },
      "outputs": [
        {
          "data": {
            "text/plain": [
              "{'go', 'spark'}"
            ]
          },
          "execution_count": 359,
          "metadata": {},
          "output_type": "execute_result"
        }
      ],
      "source": [
        "# add multiple elements (can also pass a set)\n",
        "languages.update(['go', 'spark'])\n",
        "languages"
      ]
    },
    {
      "cell_type": "markdown",
      "metadata": {
        "id": "BvFrYJNAH3qP"
      },
      "source": [
        "**Get a sorted list of unique elements from a list:**"
      ]
    },
    {
      "cell_type": "code",
      "execution_count": 360,
      "metadata": {
        "colab": {
          "base_uri": "https://localhost:8080/"
        },
        "id": "7tlZxjFsH3qQ",
        "outputId": "3a9750c1-b93f-4fe0-df40-94568996c1d0"
      },
      "outputs": [
        {
          "data": {
            "text/plain": [
              "[0, 1, 2, 9]"
            ]
          },
          "execution_count": 360,
          "metadata": {},
          "output_type": "execute_result"
        }
      ],
      "source": [
        "sorted(set([9, 0, 2, 1, 0]))"
      ]
    },
    {
      "cell_type": "markdown",
      "metadata": {
        "id": "2MuTQOtvH3qQ"
      },
      "source": [
        "[<a href=\"#Python-Quick-Reference-by-Data-School\">Back to top</a>]"
      ]
    },
    {
      "cell_type": "markdown",
      "metadata": {
        "id": "m7DAEbUVH3qQ"
      },
      "source": [
        "## 11. Defining Functions"
      ]
    },
    {
      "cell_type": "markdown",
      "metadata": {
        "id": "WygKOu5qH3qQ"
      },
      "source": [
        "**Define a function with no arguments and no return values:**"
      ]
    },
    {
      "cell_type": "code",
      "execution_count": 361,
      "metadata": {
        "collapsed": true,
        "id": "8mxPsG2KH3qQ"
      },
      "outputs": [],
      "source": [
        "def print_text():\n",
        "    print('this is text')"
      ]
    },
    {
      "cell_type": "code",
      "execution_count": 362,
      "metadata": {
        "colab": {
          "base_uri": "https://localhost:8080/"
        },
        "id": "bby9FrXvH3qQ",
        "outputId": "7be82beb-8f81-4d9a-aeca-4fb0750a6514"
      },
      "outputs": [
        {
          "name": "stdout",
          "output_type": "stream",
          "text": [
            "this is text\n"
          ]
        }
      ],
      "source": [
        "# call the function\n",
        "print_text()"
      ]
    },
    {
      "cell_type": "markdown",
      "metadata": {
        "id": "LtjPhbryH3qQ"
      },
      "source": [
        "**Define a function with one argument and no return values:**"
      ]
    },
    {
      "cell_type": "code",
      "execution_count": 363,
      "metadata": {
        "collapsed": true,
        "id": "TRlAeTWLH3qQ"
      },
      "outputs": [],
      "source": [
        "def print_this(x):\n",
        "    print(x)"
      ]
    },
    {
      "cell_type": "code",
      "execution_count": 364,
      "metadata": {
        "colab": {
          "base_uri": "https://localhost:8080/"
        },
        "id": "PEw18eD3H3qQ",
        "outputId": "7761e2b3-38c0-430a-b034-f3c820ae1fca"
      },
      "outputs": [
        {
          "name": "stdout",
          "output_type": "stream",
          "text": [
            "3\n"
          ]
        }
      ],
      "source": [
        "# call the function\n",
        "print_this(3)"
      ]
    },
    {
      "cell_type": "code",
      "execution_count": 365,
      "metadata": {
        "colab": {
          "base_uri": "https://localhost:8080/"
        },
        "id": "gI7D9CJ3H3qQ",
        "outputId": "ff1cc50e-6916-4d91-f41f-0554296b43d5"
      },
      "outputs": [
        {
          "name": "stdout",
          "output_type": "stream",
          "text": [
            "3\n"
          ]
        }
      ],
      "source": [
        "# prints 3, but doesn't assign 3 to n because the function has no return statement\n",
        "n = print_this(3)"
      ]
    },
    {
      "cell_type": "markdown",
      "metadata": {
        "id": "m-D1mOT4H3qQ"
      },
      "source": [
        "**Define a function with one argument and one return value:**"
      ]
    },
    {
      "cell_type": "code",
      "execution_count": 366,
      "metadata": {
        "collapsed": true,
        "id": "Y9IWBpGGH3qR"
      },
      "outputs": [],
      "source": [
        "def square_this(x):\n",
        "    return x**2"
      ]
    },
    {
      "cell_type": "code",
      "execution_count": 367,
      "metadata": {
        "collapsed": true,
        "id": "5c8wk7nhH3qR"
      },
      "outputs": [],
      "source": [
        "# include an optional docstring to describe the effect of a function\n",
        "def square_this(x):\n",
        "    \"\"\"Return the square of a number.\"\"\"\n",
        "    return x**2"
      ]
    },
    {
      "cell_type": "code",
      "execution_count": 368,
      "metadata": {
        "colab": {
          "base_uri": "https://localhost:8080/"
        },
        "id": "qRX_PbJEH3qR",
        "outputId": "5c792a03-14d0-490a-f347-6112e7ff25e3"
      },
      "outputs": [
        {
          "data": {
            "text/plain": [
              "9"
            ]
          },
          "execution_count": 368,
          "metadata": {},
          "output_type": "execute_result"
        }
      ],
      "source": [
        "# call the function\n",
        "square_this(3)"
      ]
    },
    {
      "cell_type": "code",
      "execution_count": 369,
      "metadata": {
        "collapsed": true,
        "id": "u5UP7DRiH3qR"
      },
      "outputs": [],
      "source": [
        "# assigns 9 to var, but does not print 9\n",
        "var = square_this(3)"
      ]
    },
    {
      "cell_type": "markdown",
      "metadata": {
        "id": "gUoWiaLAH3qR"
      },
      "source": [
        "**Define a function with two 'positional arguments' (no default values) and one 'keyword argument' (has a default value):**\n"
      ]
    },
    {
      "cell_type": "code",
      "execution_count": 370,
      "metadata": {
        "collapsed": true,
        "id": "8RRpnyf2H3qR"
      },
      "outputs": [],
      "source": [
        "def calc(a, b, op='add'):\n",
        "    if op == 'add':\n",
        "        return a + b\n",
        "    elif op == 'sub':\n",
        "        return a - b\n",
        "    else:\n",
        "        print('valid operations are add and sub')"
      ]
    },
    {
      "cell_type": "code",
      "execution_count": 371,
      "metadata": {
        "colab": {
          "base_uri": "https://localhost:8080/"
        },
        "id": "x9ymvnsLH3qR",
        "outputId": "7c2d4c18-0daa-4653-8b82-e907f81723b1"
      },
      "outputs": [
        {
          "data": {
            "text/plain": [
              "14"
            ]
          },
          "execution_count": 371,
          "metadata": {},
          "output_type": "execute_result"
        }
      ],
      "source": [
        "# call the function\n",
        "calc(10, 4, op='add')"
      ]
    },
    {
      "cell_type": "code",
      "execution_count": 372,
      "metadata": {
        "colab": {
          "base_uri": "https://localhost:8080/"
        },
        "id": "k8YlfzUOH3qR",
        "outputId": "e7d712bc-6b2e-4bf5-b824-c1f29c3d2e61"
      },
      "outputs": [
        {
          "data": {
            "text/plain": [
              "14"
            ]
          },
          "execution_count": 372,
          "metadata": {},
          "output_type": "execute_result"
        }
      ],
      "source": [
        "# unnamed arguments are inferred by position\n",
        "calc(10, 4, 'add')"
      ]
    },
    {
      "cell_type": "code",
      "execution_count": 373,
      "metadata": {
        "colab": {
          "base_uri": "https://localhost:8080/"
        },
        "id": "N0M7456kH3qR",
        "outputId": "457dbfc6-5eb4-46fb-9cdf-099d12777d41"
      },
      "outputs": [
        {
          "data": {
            "text/plain": [
              "14"
            ]
          },
          "execution_count": 373,
          "metadata": {},
          "output_type": "execute_result"
        }
      ],
      "source": [
        "# default for 'op' is 'add'\n",
        "calc(10, 4)"
      ]
    },
    {
      "cell_type": "code",
      "execution_count": 374,
      "metadata": {
        "colab": {
          "base_uri": "https://localhost:8080/"
        },
        "id": "QLpnUBfrH3qR",
        "outputId": "994e251d-2313-45d5-b4aa-cf82aae1fa2f"
      },
      "outputs": [
        {
          "data": {
            "text/plain": [
              "6"
            ]
          },
          "execution_count": 374,
          "metadata": {},
          "output_type": "execute_result"
        }
      ],
      "source": [
        "calc(10, 4, 'sub')"
      ]
    },
    {
      "cell_type": "code",
      "execution_count": 375,
      "metadata": {
        "colab": {
          "base_uri": "https://localhost:8080/"
        },
        "id": "7Qu5CBpTH3qR",
        "outputId": "688a1fd6-9c10-4b98-9e46-9e648986e4fe"
      },
      "outputs": [
        {
          "name": "stdout",
          "output_type": "stream",
          "text": [
            "valid operations are add and sub\n"
          ]
        }
      ],
      "source": [
        "calc(10, 4, 'div')"
      ]
    },
    {
      "cell_type": "markdown",
      "metadata": {
        "id": "XWe_LEbSH3qS"
      },
      "source": [
        "**Use `pass` as a placeholder if you haven't written the function body:**"
      ]
    },
    {
      "cell_type": "code",
      "execution_count": 376,
      "metadata": {
        "collapsed": true,
        "id": "T-M8ehHZH3qS"
      },
      "outputs": [],
      "source": [
        "def stub():\n",
        "    pass"
      ]
    },
    {
      "cell_type": "markdown",
      "metadata": {
        "id": "OcV9Z5dqH3qS"
      },
      "source": [
        "**Return two values from a single function:**"
      ]
    },
    {
      "cell_type": "code",
      "execution_count": 377,
      "metadata": {
        "collapsed": true,
        "id": "fo4OhuNoH3qS"
      },
      "outputs": [],
      "source": [
        "def min_max(nums):\n",
        "    return min(nums), max(nums)"
      ]
    },
    {
      "cell_type": "code",
      "execution_count": 378,
      "metadata": {
        "colab": {
          "base_uri": "https://localhost:8080/"
        },
        "id": "Cj9QD3VQH3qS",
        "outputId": "12f0e79a-2934-4f26-fd85-6fbd2e1ae9b6"
      },
      "outputs": [
        {
          "data": {
            "text/plain": [
              "(1, 3)"
            ]
          },
          "execution_count": 378,
          "metadata": {},
          "output_type": "execute_result"
        }
      ],
      "source": [
        "# return values can be assigned to a single variable as a tuple\n",
        "nums = [1, 2, 3]\n",
        "min_max_num = min_max(nums)\n",
        "min_max_num"
      ]
    },
    {
      "cell_type": "code",
      "execution_count": 379,
      "metadata": {
        "colab": {
          "base_uri": "https://localhost:8080/"
        },
        "id": "ozyFmdlIH3qS",
        "outputId": "dc63dcd5-dd8e-4bef-c607-69db26e80590"
      },
      "outputs": [
        {
          "name": "stdout",
          "output_type": "stream",
          "text": [
            "1\n",
            "3\n"
          ]
        }
      ],
      "source": [
        "# return values can be assigned into multiple variables using tuple unpacking\n",
        "min_num, max_num = min_max(nums)\n",
        "print(min_num)\n",
        "print(max_num)"
      ]
    },
    {
      "cell_type": "markdown",
      "metadata": {
        "id": "lKOJnSFeH3qS"
      },
      "source": [
        "[<a href=\"#Python-Quick-Reference-by-Data-School\">Back to top</a>]"
      ]
    },
    {
      "cell_type": "markdown",
      "metadata": {
        "id": "52wK8cBsH3qS"
      },
      "source": [
        "## 12. Anonymous (Lambda) Functions\n",
        "\n",
        "- Primarily used to temporarily define a function for use by another function"
      ]
    },
    {
      "cell_type": "code",
      "execution_count": 428,
      "metadata": {
        "collapsed": true,
        "id": "hKZEyeJmH3qS"
      },
      "outputs": [],
      "source": [
        "# define a function the \"usual\" way\n",
        "def squared(x):\n",
        "    return x**2"
      ]
    },
    {
      "cell_type": "code",
      "execution_count": 429,
      "metadata": {
        "collapsed": true,
        "id": "lfjQ69YMH3qS"
      },
      "outputs": [],
      "source": [
        "# define an identical function using lambda\n",
        "squared = lambda x: x**2"
      ]
    },
    {
      "cell_type": "markdown",
      "metadata": {
        "id": "wbFxCwdIH3qS"
      },
      "source": [
        "**Sort a list of strings by the last letter:**"
      ]
    },
    {
      "cell_type": "code",
      "execution_count": 430,
      "metadata": {
        "colab": {
          "base_uri": "https://localhost:8080/"
        },
        "id": "u366G_9_H3qT",
        "outputId": "268d2863-8b06-4640-9a9f-81212ecbe25a"
      },
      "outputs": [
        {
          "data": {
            "text/plain": [
              "['marge', 'homer', 'bart']"
            ]
          },
          "execution_count": 430,
          "metadata": {},
          "output_type": "execute_result"
        }
      ],
      "source": [
        "# without using lambda\n",
        "simpsons = ['homer', 'marge', 'bart']\n",
        "def last_letter(word):\n",
        "    return word[-1]\n",
        "sorted(simpsons, key=last_letter)"
      ]
    },
    {
      "cell_type": "code",
      "execution_count": 431,
      "metadata": {
        "colab": {
          "base_uri": "https://localhost:8080/"
        },
        "id": "HYfOKshnH3qT",
        "outputId": "f7fec3cc-916e-41a9-b46b-b3081d538ce7"
      },
      "outputs": [
        {
          "data": {
            "text/plain": [
              "['marge', 'homer', 'bart']"
            ]
          },
          "execution_count": 431,
          "metadata": {},
          "output_type": "execute_result"
        }
      ],
      "source": [
        "# using lambda\n",
        "sorted(simpsons, key=lambda word: word[-1])"
      ]
    },
    {
      "cell_type": "markdown",
      "metadata": {
        "id": "9SoCbKsNH3qT"
      },
      "source": [
        "[<a href=\"#Python-Quick-Reference-by-Data-School\">Back to top</a>]"
      ]
    },
    {
      "cell_type": "markdown",
      "metadata": {
        "id": "JYh3-M-eH3qT"
      },
      "source": [
        "## 13. For Loops and While Loops"
      ]
    },
    {
      "cell_type": "markdown",
      "metadata": {
        "id": "7EwR-oo2H3qT"
      },
      "source": [
        "**`range` returns a list of integers (Python 2) or a sequence (Python 3):**"
      ]
    },
    {
      "cell_type": "code",
      "execution_count": 384,
      "metadata": {
        "colab": {
          "base_uri": "https://localhost:8080/"
        },
        "id": "9JeRn4cbH3qT",
        "outputId": "68b7ab61-2dbe-4514-8dc6-a7935f028334"
      },
      "outputs": [
        {
          "data": {
            "text/plain": [
              "range(0, 3)"
            ]
          },
          "execution_count": 384,
          "metadata": {},
          "output_type": "execute_result"
        }
      ],
      "source": [
        "# includes the start value but excludes the stop value\n",
        "range(0, 3)"
      ]
    },
    {
      "cell_type": "code",
      "execution_count": 385,
      "metadata": {
        "colab": {
          "base_uri": "https://localhost:8080/"
        },
        "id": "VugFc4BXH3qT",
        "outputId": "3dfb7c2b-ec72-45eb-9a28-3dea3d0e6323"
      },
      "outputs": [
        {
          "data": {
            "text/plain": [
              "range(0, 3)"
            ]
          },
          "execution_count": 385,
          "metadata": {},
          "output_type": "execute_result"
        }
      ],
      "source": [
        "# default start value is 0\n",
        "range(3)"
      ]
    },
    {
      "cell_type": "code",
      "execution_count": 386,
      "metadata": {
        "colab": {
          "base_uri": "https://localhost:8080/"
        },
        "id": "Zkn0HfXaH3qT",
        "outputId": "1353697d-47ef-438e-e9a0-bc8e1b4b2f54"
      },
      "outputs": [
        {
          "data": {
            "text/plain": [
              "range(0, 5, 2)"
            ]
          },
          "execution_count": 386,
          "metadata": {},
          "output_type": "execute_result"
        }
      ],
      "source": [
        "# third argument is the step value\n",
        "range(0, 5, 2)"
      ]
    },
    {
      "cell_type": "code",
      "execution_count": 387,
      "metadata": {
        "id": "VbOqlZYHH3qT"
      },
      "outputs": [],
      "source": [
        "# Python 2 only: use xrange to create a sequence rather than a list (saves memory)\n",
        "# xrange(100, 100000, 5)"
      ]
    },
    {
      "cell_type": "markdown",
      "metadata": {
        "id": "A3oWJjQ2H3qT"
      },
      "source": [
        "**`for` loops:**"
      ]
    },
    {
      "cell_type": "code",
      "execution_count": 388,
      "metadata": {
        "colab": {
          "base_uri": "https://localhost:8080/"
        },
        "id": "504cKSriH3qT",
        "outputId": "466abf09-08d8-482a-afbe-fb55af247a25"
      },
      "outputs": [
        {
          "name": "stdout",
          "output_type": "stream",
          "text": [
            "APPLE\n",
            "BANANA\n",
            "CHERRY\n"
          ]
        }
      ],
      "source": [
        "# not the recommended style\n",
        "fruits = ['apple', 'banana', 'cherry']\n",
        "for i in range(len(fruits)):\n",
        "    print(fruits[i].upper())"
      ]
    },
    {
      "cell_type": "code",
      "execution_count": 389,
      "metadata": {
        "colab": {
          "base_uri": "https://localhost:8080/"
        },
        "id": "QYQH3DxvH3qU",
        "outputId": "ac36a304-753c-4bb6-851c-9e928fbac73b"
      },
      "outputs": [
        {
          "name": "stdout",
          "output_type": "stream",
          "text": [
            "APPLE\n",
            "BANANA\n",
            "CHERRY\n"
          ]
        }
      ],
      "source": [
        "# recommended style\n",
        "for fruit in fruits:\n",
        "    print(fruit.upper())"
      ]
    },
    {
      "cell_type": "code",
      "execution_count": 390,
      "metadata": {
        "colab": {
          "base_uri": "https://localhost:8080/"
        },
        "id": "R5KURPriH3qU",
        "outputId": "94444937-58aa-409d-f6b2-38d079239e9c"
      },
      "outputs": [
        {
          "name": "stdout",
          "output_type": "stream",
          "text": [
            "dad homer\n",
            "mom marge\n",
            "size 6\n"
          ]
        }
      ],
      "source": [
        "# iterate through two things at once (using tuple unpacking)\n",
        "family = {'dad':'homer', 'mom':'marge', 'size':6}\n",
        "for key, value in family.items():\n",
        "    print(key, value)"
      ]
    },
    {
      "cell_type": "code",
      "execution_count": 391,
      "metadata": {
        "colab": {
          "base_uri": "https://localhost:8080/"
        },
        "id": "XLdnCcokH3qU",
        "outputId": "e7ac3248-c5d4-4ead-cd50-e05d6399b3ef"
      },
      "outputs": [
        {
          "name": "stdout",
          "output_type": "stream",
          "text": [
            "0 apple\n",
            "1 banana\n",
            "2 cherry\n"
          ]
        }
      ],
      "source": [
        "# use enumerate if you need to access the index value within the loop\n",
        "for index, fruit in enumerate(fruits):\n",
        "    print(index, fruit)"
      ]
    },
    {
      "cell_type": "markdown",
      "metadata": {
        "id": "ZIt0ph-uH3qU"
      },
      "source": [
        "**`for`/`else` loop:**"
      ]
    },
    {
      "cell_type": "code",
      "execution_count": 392,
      "metadata": {
        "colab": {
          "base_uri": "https://localhost:8080/"
        },
        "id": "2vpNim69H3qU",
        "outputId": "c215b360-1060-49fa-c8cc-4dfcdcda12da"
      },
      "outputs": [
        {
          "name": "stdout",
          "output_type": "stream",
          "text": [
            "Found the banana!\n"
          ]
        }
      ],
      "source": [
        "for fruit in fruits:\n",
        "    if fruit == 'banana':\n",
        "        print('Found the banana!')\n",
        "        break    # exit the loop and skip the 'else' block\n",
        "else:\n",
        "    # this block executes ONLY if the for loop completes without hitting 'break'\n",
        "    print(\"Can't find the banana\")"
      ]
    },
    {
      "cell_type": "markdown",
      "metadata": {
        "id": "GzVPxUmEH3qU"
      },
      "source": [
        "**`while` loop:**"
      ]
    },
    {
      "cell_type": "code",
      "execution_count": 393,
      "metadata": {
        "colab": {
          "base_uri": "https://localhost:8080/"
        },
        "id": "Hrf2n06VH3qU",
        "outputId": "c3d0e391-a4b3-48f9-d1e0-8638d2083786"
      },
      "outputs": [
        {
          "name": "stdout",
          "output_type": "stream",
          "text": [
            "This will print 5 times\n",
            "This will print 5 times\n",
            "This will print 5 times\n",
            "This will print 5 times\n",
            "This will print 5 times\n"
          ]
        }
      ],
      "source": [
        "count = 0\n",
        "while count < 5:\n",
        "    print('This will print 5 times')\n",
        "    count += 1    # equivalent to 'count = count + 1'"
      ]
    },
    {
      "cell_type": "markdown",
      "metadata": {
        "id": "jdfWmNSyH3qU"
      },
      "source": [
        "[<a href=\"#Python-Quick-Reference-by-Data-School\">Back to top</a>]"
      ]
    },
    {
      "cell_type": "markdown",
      "metadata": {
        "id": "30CfymJIH3qU"
      },
      "source": [
        "## 14. Comprehensions"
      ]
    },
    {
      "cell_type": "markdown",
      "metadata": {
        "id": "AXxOP8qoH3qU"
      },
      "source": [
        "**List comprehension:**"
      ]
    },
    {
      "cell_type": "code",
      "execution_count": 411,
      "metadata": {
        "colab": {
          "base_uri": "https://localhost:8080/"
        },
        "id": "FlyGsO7ZH3qV",
        "outputId": "41fea9cb-7740-46d2-de9a-b9f1c29faa85"
      },
      "outputs": [
        {
          "data": {
            "text/plain": [
              "[1, 8, 27, 64, 125]"
            ]
          },
          "execution_count": 411,
          "metadata": {},
          "output_type": "execute_result"
        }
      ],
      "source": [
        "# for loop to create a list of cubes\n",
        "nums = [1, 2, 3, 4, 5]\n",
        "cubes = []\n",
        "for num in nums:\n",
        "    cubes.append(num**3)\n",
        "cubes"
      ]
    },
    {
      "cell_type": "code",
      "execution_count": 412,
      "metadata": {
        "colab": {
          "base_uri": "https://localhost:8080/"
        },
        "id": "p0mlozscH3qV",
        "outputId": "ebe249f0-d787-495a-8a74-cf8a7cb1a213"
      },
      "outputs": [
        {
          "data": {
            "text/plain": [
              "[1, 8, 27, 64, 125]"
            ]
          },
          "execution_count": 412,
          "metadata": {},
          "output_type": "execute_result"
        }
      ],
      "source": [
        "# equivalent list comprehension\n",
        "cubes = [num**3 for num in nums]\n",
        "cubes"
      ]
    },
    {
      "cell_type": "code",
      "execution_count": 413,
      "metadata": {
        "colab": {
          "base_uri": "https://localhost:8080/"
        },
        "id": "vpc4dOssH3qV",
        "outputId": "92c300d2-c780-49dd-e3ce-24527a23a760"
      },
      "outputs": [
        {
          "data": {
            "text/plain": [
              "[8, 64]"
            ]
          },
          "execution_count": 413,
          "metadata": {},
          "output_type": "execute_result"
        }
      ],
      "source": [
        "# for loop to create a list of cubes of even numbers\n",
        "cubes_of_even = []\n",
        "for num in nums:\n",
        "    if num % 2 == 0:\n",
        "        cubes_of_even.append(num**3)\n",
        "cubes_of_even"
      ]
    },
    {
      "cell_type": "code",
      "execution_count": 414,
      "metadata": {
        "colab": {
          "base_uri": "https://localhost:8080/"
        },
        "id": "FRrPkBYaH3qV",
        "outputId": "27a75285-16b4-471a-a2ea-edd468f5e308"
      },
      "outputs": [
        {
          "data": {
            "text/plain": [
              "[8, 64]"
            ]
          },
          "execution_count": 414,
          "metadata": {},
          "output_type": "execute_result"
        }
      ],
      "source": [
        "# equivalent list comprehension\n",
        "# syntax: [expression for variable in iterable if condition]\n",
        "cubes_of_even = [num**3 for num in nums if num % 2 == 0]\n",
        "cubes_of_even"
      ]
    },
    {
      "cell_type": "code",
      "execution_count": 415,
      "metadata": {
        "colab": {
          "base_uri": "https://localhost:8080/"
        },
        "id": "RnhTSsoNH3qV",
        "outputId": "cab3868a-73ef-4698-f305-da24e4212374"
      },
      "outputs": [
        {
          "data": {
            "text/plain": [
              "[1, 8, 9, 64, 25]"
            ]
          },
          "execution_count": 415,
          "metadata": {},
          "output_type": "execute_result"
        }
      ],
      "source": [
        "# for loop to cube even numbers and square odd numbers\n",
        "cubes_and_squares = []\n",
        "for num in nums:\n",
        "    if num % 2 == 0:\n",
        "        cubes_and_squares.append(num**3)\n",
        "    else:\n",
        "        cubes_and_squares.append(num**2)\n",
        "cubes_and_squares"
      ]
    },
    {
      "cell_type": "code",
      "execution_count": 416,
      "metadata": {
        "colab": {
          "base_uri": "https://localhost:8080/"
        },
        "id": "ZViGKOD4H3qV",
        "outputId": "d431b40f-6e9f-4f2c-e484-09e5f870f728"
      },
      "outputs": [
        {
          "data": {
            "text/plain": [
              "[1, 8, 9, 64, 25]"
            ]
          },
          "execution_count": 416,
          "metadata": {},
          "output_type": "execute_result"
        }
      ],
      "source": [
        "# equivalent list comprehension (using a ternary expression)\n",
        "# syntax: [true_condition if condition else false_condition for variable in iterable]\n",
        "cubes_and_squares = [num**3 if num % 2 == 0 else num**2 for num in nums]\n",
        "cubes_and_squares"
      ]
    },
    {
      "cell_type": "code",
      "execution_count": 417,
      "metadata": {
        "colab": {
          "base_uri": "https://localhost:8080/"
        },
        "id": "5ObClvC-H3qV",
        "outputId": "565d404b-a324-43ea-d2f0-cf453c6f1d00"
      },
      "outputs": [
        {
          "data": {
            "text/plain": [
              "[1, 2, 3, 4]"
            ]
          },
          "execution_count": 417,
          "metadata": {},
          "output_type": "execute_result"
        }
      ],
      "source": [
        "# for loop to flatten a 2d-matrix\n",
        "matrix = [[1, 2], [3, 4]]\n",
        "items = []\n",
        "for row in matrix:\n",
        "    for item in row:\n",
        "        items.append(item)\n",
        "items"
      ]
    },
    {
      "cell_type": "code",
      "execution_count": 418,
      "metadata": {
        "colab": {
          "base_uri": "https://localhost:8080/"
        },
        "id": "ZPJxhynpH3qV",
        "outputId": "19f3161d-659e-4ee0-cb01-7b8edca1efdd"
      },
      "outputs": [
        {
          "data": {
            "text/plain": [
              "[1, 2, 3, 4]"
            ]
          },
          "execution_count": 418,
          "metadata": {},
          "output_type": "execute_result"
        }
      ],
      "source": [
        "# equivalent list comprehension\n",
        "items = [item for row in matrix\n",
        "              for item in row]\n",
        "items"
      ]
    },
    {
      "cell_type": "markdown",
      "metadata": {
        "id": "4XVzHEBPH3qV"
      },
      "source": [
        "**Set comprehension:**"
      ]
    },
    {
      "cell_type": "code",
      "execution_count": 419,
      "metadata": {
        "colab": {
          "base_uri": "https://localhost:8080/"
        },
        "id": "jNMk152uH3qW",
        "outputId": "b678dd48-0fbd-430a-a7ad-e368607bbdca"
      },
      "outputs": [
        {
          "data": {
            "text/plain": [
              "{5, 6}"
            ]
          },
          "execution_count": 419,
          "metadata": {},
          "output_type": "execute_result"
        }
      ],
      "source": [
        "fruits = ['apple', 'banana', 'cherry']\n",
        "unique_lengths = {len(fruit) for fruit in fruits}\n",
        "unique_lengths"
      ]
    },
    {
      "cell_type": "markdown",
      "metadata": {
        "id": "zmiXqzRvH3qW"
      },
      "source": [
        "**Dictionary comprehension:**"
      ]
    },
    {
      "cell_type": "code",
      "execution_count": 420,
      "metadata": {
        "colab": {
          "base_uri": "https://localhost:8080/"
        },
        "id": "l8zsJTCkH3qW",
        "outputId": "db191e41-5a1f-403b-8160-ffa189908cb3"
      },
      "outputs": [
        {
          "data": {
            "text/plain": [
              "{'apple': 5, 'banana': 6, 'cherry': 6}"
            ]
          },
          "execution_count": 420,
          "metadata": {},
          "output_type": "execute_result"
        }
      ],
      "source": [
        "fruit_lengths = {fruit:len(fruit) for fruit in fruits}\n",
        "fruit_lengths"
      ]
    },
    {
      "cell_type": "code",
      "execution_count": 421,
      "metadata": {
        "colab": {
          "base_uri": "https://localhost:8080/"
        },
        "id": "T6SAbldpH3qW",
        "outputId": "c5d8704e-48e4-4f5f-f885-0cd83d3183d8"
      },
      "outputs": [
        {
          "data": {
            "text/plain": [
              "{'apple': 0, 'banana': 1, 'cherry': 2}"
            ]
          },
          "execution_count": 421,
          "metadata": {},
          "output_type": "execute_result"
        }
      ],
      "source": [
        "fruit_indices = {fruit:index for index, fruit in enumerate(fruits)}\n",
        "fruit_indices"
      ]
    },
    {
      "cell_type": "markdown",
      "metadata": {
        "id": "y9qWt95PH3qW"
      },
      "source": [
        "[<a href=\"#Python-Quick-Reference-by-Data-School\">Back to top</a>]"
      ]
    },
    {
      "cell_type": "markdown",
      "metadata": {
        "id": "wIzF2nosH3qW"
      },
      "source": [
        "## 15. Map and Filter"
      ]
    },
    {
      "cell_type": "markdown",
      "metadata": {
        "id": "QXd05K0KH3qW"
      },
      "source": [
        "**`map` applies a function to every element of a sequence and returns a list (Python 2) or iterator (Python 3):**"
      ]
    },
    {
      "cell_type": "code",
      "execution_count": 422,
      "metadata": {
        "colab": {
          "base_uri": "https://localhost:8080/"
        },
        "id": "nhO33GbwH3qW",
        "outputId": "c62bdbcc-0289-4fe3-eb84-97f01c09e6fb"
      },
      "outputs": [
        {
          "data": {
            "text/plain": [
              "<map at 0x7f43c6739ed0>"
            ]
          },
          "execution_count": 422,
          "metadata": {},
          "output_type": "execute_result"
        }
      ],
      "source": [
        "simpsons = ['homer', 'marge', 'bart']\n",
        "map(len, simpsons)"
      ]
    },
    {
      "cell_type": "code",
      "execution_count": 423,
      "metadata": {
        "colab": {
          "base_uri": "https://localhost:8080/"
        },
        "id": "XHHHNHh7H3qW",
        "outputId": "66550abd-a20b-4a77-b45a-97bbf132ed19"
      },
      "outputs": [
        {
          "data": {
            "text/plain": [
              "[5, 5, 4]"
            ]
          },
          "execution_count": 423,
          "metadata": {},
          "output_type": "execute_result"
        }
      ],
      "source": [
        "# equivalent list comprehension\n",
        "[len(word) for word in simpsons]"
      ]
    },
    {
      "cell_type": "code",
      "execution_count": 424,
      "metadata": {
        "colab": {
          "base_uri": "https://localhost:8080/"
        },
        "id": "qORUlEzTH3qX",
        "outputId": "99b65a46-d424-4c06-f474-6eb0baae8fd8"
      },
      "outputs": [
        {
          "data": {
            "text/plain": [
              "<map at 0x7f43c6732150>"
            ]
          },
          "execution_count": 424,
          "metadata": {},
          "output_type": "execute_result"
        }
      ],
      "source": [
        "map(lambda word: word[-1], simpsons)"
      ]
    },
    {
      "cell_type": "code",
      "execution_count": 425,
      "metadata": {
        "colab": {
          "base_uri": "https://localhost:8080/"
        },
        "id": "KpE1rWdkH3qX",
        "outputId": "5e3c76ab-7798-4e99-ce69-da5b80ad3560"
      },
      "outputs": [
        {
          "data": {
            "text/plain": [
              "['r', 'e', 't']"
            ]
          },
          "execution_count": 425,
          "metadata": {},
          "output_type": "execute_result"
        }
      ],
      "source": [
        "# equivalent list comprehension\n",
        "[word[-1] for word in simpsons]"
      ]
    },
    {
      "cell_type": "markdown",
      "metadata": {
        "id": "z5o1Rp4GH3qZ"
      },
      "source": [
        "**`filter` returns a list (Python 2) or iterator (Python 3) containing the elements from a sequence for which a condition is `True`:**"
      ]
    },
    {
      "cell_type": "code",
      "execution_count": 433,
      "metadata": {
        "colab": {
          "base_uri": "https://localhost:8080/"
        },
        "id": "wdPrmXd1H3qZ",
        "outputId": "5995d100-c14d-446f-ddc7-a7003825a30a"
      },
      "outputs": [
        {
          "data": {
            "text/plain": [
              "[<filter at 0x7f43c2ecff90>]"
            ]
          },
          "execution_count": 433,
          "metadata": {},
          "output_type": "execute_result"
        }
      ],
      "source": [
        "nums = range(5)\n",
        "[filter(lambda x: x % 2 == 0, nums)]"
      ]
    },
    {
      "cell_type": "code",
      "execution_count": 427,
      "metadata": {
        "colab": {
          "base_uri": "https://localhost:8080/"
        },
        "id": "KV2mRs_jH3qa",
        "outputId": "72370a64-1536-47e4-ed5e-bc0acad6f039"
      },
      "outputs": [
        {
          "data": {
            "text/plain": [
              "[0, 2, 4]"
            ]
          },
          "execution_count": 427,
          "metadata": {},
          "output_type": "execute_result"
        }
      ],
      "source": [
        "# equivalent list comprehension\n",
        "[num for num in nums if num % 2 == 0]"
      ]
    },
    {
      "cell_type": "markdown",
      "metadata": {
        "id": "yByFpNzeH3qa"
      },
      "source": [
        "[<a href=\"#Python-Quick-Reference-by-Data-School\">Back to top</a>]"
      ]
    }
  ],
  "metadata": {
    "colab": {
      "provenance": [],
      "toc_visible": true
    },
    "kernelspec": {
      "display_name": "Python 3.10.6 ('poo-Rr-I_ODB-py3.10')",
      "language": "python",
      "name": "python3"
    },
    "language_info": {
      "name": "python",
      "version": "3.10.6"
    },
    "vscode": {
      "interpreter": {
        "hash": "99f63234e776ddf866f00dc26efc3383202f494fe37de13ff184da281f7423f4"
      }
    }
  },
  "nbformat": 4,
  "nbformat_minor": 0
}
