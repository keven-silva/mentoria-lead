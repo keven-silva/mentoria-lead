{
 "cells": [
  {
   "cell_type": "markdown",
   "metadata": {},
   "source": [
    "01\n"
   ]
  },
  {
   "cell_type": "code",
   "execution_count": null,
   "metadata": {},
   "outputs": [],
   "source": [
    "def verify_number(number:int)->str:\n",
    "    '''\n",
    "        Função que verifica qual o tipo do número\n",
    "    '''\n",
    "    if number > 0:\n",
    "        return 'Este é um número positivo!'\n",
    "    elif number == 0:\n",
    "        return 'Este número é zero!'\n",
    "    elif number < 0:\n",
    "        return 'Este é um número negativo!'"
   ]
  },
  {
   "cell_type": "markdown",
   "metadata": {},
   "source": [
    "02\n"
   ]
  },
  {
   "cell_type": "code",
   "execution_count": null,
   "metadata": {},
   "outputs": [],
   "source": [
    "from datetime import datetime\n",
    "\n",
    "\n",
    "def date_day_print(date):\n",
    "    format_date = '%d/%m/%Y'\n",
    "    full_date = datetime.strptime(date, format_date)\n",
    "    \n",
    "    month_number = str(full_date.month)\n",
    "    month = datetime.strptime(month_number, '%m')\n",
    "    month_name = month.strftime(\"%B\")\n",
    "    return f'{full_date.day} de {month_name} {full_date.year}'"
   ]
  },
  {
   "cell_type": "markdown",
   "metadata": {},
   "source": [
    "03\n"
   ]
  },
  {
   "cell_type": "code",
   "execution_count": null,
   "metadata": {},
   "outputs": [],
   "source": [
    "def common_divisor(n:int, m:int):\n",
    "    values = max(n, m)\n",
    "\n",
    "    for number in range(1, values):\n",
    "        if (n % number) == 0 and (m % number) == 0:\n",
    "            print(number) "
   ]
  },
  {
   "cell_type": "markdown",
   "metadata": {},
   "source": [
    "04"
   ]
  },
  {
   "cell_type": "code",
   "execution_count": null,
   "metadata": {},
   "outputs": [],
   "source": [
    "def numbers_greater_than_number_n(number:int, lista:list)->bool:\n",
    "    x = 0\n",
    "    \n",
    "    for n in lista:\n",
    "        if n > number:\n",
    "            x += 1\n",
    "    if x == len(lista):\n",
    "        return True\n",
    "    else:\n",
    "        return False"
   ]
  },
  {
   "cell_type": "markdown",
   "metadata": {},
   "source": [
    "05"
   ]
  },
  {
   "cell_type": "code",
   "execution_count": null,
   "metadata": {},
   "outputs": [],
   "source": [
    "import os\n",
    "\n",
    "\n",
    "def directory_list(directory:str):\n",
    "    path = f'./{directory}'\n",
    "\n",
    "    for diretorio, subpastas, arquivos in os.walk(path):\n",
    "        for arquivo in arquivos:\n",
    "            print(os.path.join(diretorio, arquivo))"
   ]
  },
  {
   "cell_type": "markdown",
   "metadata": {},
   "source": [
    "06"
   ]
  },
  {
   "cell_type": "code",
   "execution_count": null,
   "metadata": {},
   "outputs": [],
   "source": [
    "def type_of_monotonic(lista:list):\n",
    "    increasing = all(x < y for x, y in zip(lista, lista[1:])) \n",
    "    decreasing = all(x > y for x , y in zip(lista, lista[1:]))\n",
    "\n",
    "    if increasing:\n",
    "        print('Crescente.')\n",
    "    elif decreasing:\n",
    "        print('Decrescente.')\n",
    "    elif not increasing or not decreasing:\n",
    "        print('Não é uma sequência monotônica!')"
   ]
  },
  {
   "cell_type": "markdown",
   "metadata": {},
   "source": [
    "07"
   ]
  },
  {
   "cell_type": "code",
   "execution_count": null,
   "metadata": {},
   "outputs": [],
   "source": [
    "def unique_character_list(lista:list):\n",
    "\n",
    "    for i , j in zip(lista[0:], lista[::-1]):\n",
    "        for l in i:\n",
    "            if l in j:\n",
    "                print(f'i:{i}\\nj:{j}\\nl:{l}')"
   ]
  },
  {
   "cell_type": "code",
   "execution_count": null,
   "metadata": {},
   "outputs": [],
   "source": [
    "unique_character_list(lista=['gato', 'cascasrafd', 'abcdefhijklmnop', '1234123441249354', '', 'foo', 'unique'])\n",
    "# unique_character_list(lista=['Verde', 'Vermelho', 'Laranja', 'Amarelo', '', 'Branco'])"
   ]
  },
  {
   "cell_type": "markdown",
   "metadata": {},
   "source": [
    "08\n"
   ]
  },
  {
   "cell_type": "code",
   "execution_count": null,
   "metadata": {},
   "outputs": [],
   "source": [
    "def palindrome(number:int):\n",
    "    for n in (range(0, number)):\n",
    "        if n % 2 == 0:\n",
    "            n = str(n)\n",
    "            if n == n[::-1]:\n",
    "                print(f'{n}')"
   ]
  },
  {
   "cell_type": "code",
   "execution_count": null,
   "metadata": {},
   "outputs": [],
   "source": [
    "palindrome(1000)"
   ]
  },
  {
   "cell_type": "markdown",
   "metadata": {},
   "source": [
    "09"
   ]
  },
  {
   "cell_type": "code",
   "execution_count": 14,
   "metadata": {},
   "outputs": [],
   "source": [
    "# def sort_numbers(numbers:list):\n",
    "#     lista = []\n",
    "    \n",
    "#     for index, value in enumerate(zip(numbers, numbers[2:])):\n",
    "#         if value[0] < value[1]:\n",
    "#             lista.append(value[0])\n",
    "#             lista.append(value[1])\n",
    "            \n",
    "#         print(index, value)\n",
    "        \n",
    "#     print(lista)"
   ]
  },
  {
   "cell_type": "code",
   "execution_count": 89,
   "metadata": {},
   "outputs": [],
   "source": [
    "def sort_numbers(numbers:list):\n",
    "    lista = []\n",
    "    lenght_list = len(numbers)\n",
    "\n",
    "    if (1 <= lenght_list <= 300):\n",
    "        for numero in numbers:\n",
    "            if (0 <= numero <= 2):\n",
    "                for chave, valor in enumerate(lista):\n",
    "                    if numero < valor:\n",
    "                        lista.insert(chave, numero)\n",
    "                        break\n",
    "                else:\n",
    "                    lista.append(numero)\n",
    "            else:\n",
    "                return 'Existe elementos inválidos na lista!'\n",
    "    return lista"
   ]
  },
  {
   "cell_type": "code",
   "execution_count": 92,
   "metadata": {},
   "outputs": [
    {
     "data": {
      "text/plain": [
       "'Existe elementos inválidos na lista!'"
      ]
     },
     "execution_count": 92,
     "metadata": {},
     "output_type": "execute_result"
    }
   ],
   "source": [
    "sort_numbers([2,0,1,1,3,2,2,1])"
   ]
  },
  {
   "cell_type": "markdown",
   "metadata": {},
   "source": [
    "10"
   ]
  },
  {
   "cell_type": "code",
   "execution_count": 148,
   "metadata": {},
   "outputs": [],
   "source": [
    "def sort_numbers(numbers:list):\n",
    "    lista = []\n",
    "    lenght_list = len(numbers)\n",
    "\n",
    "    if lenght_list >= 2:\n",
    "        for numero in numbers:\n",
    "            for chave, valor in enumerate(lista):\n",
    "                if numero < valor:\n",
    "                    lista.insert(chave, numero)\n",
    "                    break\n",
    "            else:\n",
    "                lista.append(numero)\n",
    "    else:\n",
    "        return 0\n",
    "    return lista"
   ]
  },
  {
   "cell_type": "code",
   "execution_count": 156,
   "metadata": {},
   "outputs": [],
   "source": [
    "def maximum_difference_of_numbers(numbers:list):\n",
    "    lista = sort_numbers(numbers)\n",
    "    maximum_difference = []\n",
    "\n",
    "    if lista:\n",
    "        for n1, n2 in zip(lista, lista[1:]):\n",
    "            maximum_difference.append(abs(n1-n2))\n",
    "        print(maximum_difference)\n",
    "        return max(maximum_difference)\n",
    "    return 0"
   ]
  },
  {
   "cell_type": "code",
   "execution_count": 158,
   "metadata": {},
   "outputs": [
    {
     "name": "stdout",
     "output_type": "stream",
     "text": [
      "[3, 2, 0, 4]\n"
     ]
    },
    {
     "data": {
      "text/plain": [
       "4"
      ]
     },
     "execution_count": 158,
     "metadata": {},
     "output_type": "execute_result"
    }
   ],
   "source": [
    "maximum_difference_of_numbers([8,3,6,8,12])\n"
   ]
  }
 ],
 "metadata": {
  "kernelspec": {
   "display_name": "Python 3.10.6 ('poo-Rr-I_ODB-py3.10')",
   "language": "python",
   "name": "python3"
  },
  "language_info": {
   "codemirror_mode": {
    "name": "ipython",
    "version": 3
   },
   "file_extension": ".py",
   "mimetype": "text/x-python",
   "name": "python",
   "nbconvert_exporter": "python",
   "pygments_lexer": "ipython3",
   "version": "3.10.6"
  },
  "orig_nbformat": 4,
  "vscode": {
   "interpreter": {
    "hash": "99f63234e776ddf866f00dc26efc3383202f494fe37de13ff184da281f7423f4"
   }
  }
 },
 "nbformat": 4,
 "nbformat_minor": 2
}
