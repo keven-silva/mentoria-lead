{
 "cells": [
  {
   "cell_type": "markdown",
   "metadata": {},
   "source": [
    "### Imports"
   ]
  },
  {
   "cell_type": "code",
   "execution_count": 1,
   "metadata": {},
   "outputs": [],
   "source": [
    "import gymnasium as gym\n",
    "import numpy as np\n",
    "import random\n",
    "from IPython.display import clear_output\n",
    "import time"
   ]
  },
  {
   "cell_type": "markdown",
   "metadata": {},
   "source": [
    "### Agente"
   ]
  },
  {
   "cell_type": "code",
   "execution_count": 2,
   "metadata": {},
   "outputs": [],
   "source": [
    "env = gym.make(\"Taxi-v3\", render_mode=\"ansi\")"
   ]
  },
  {
   "cell_type": "code",
   "execution_count": 3,
   "metadata": {},
   "outputs": [
    {
     "data": {
      "text/plain": [
       "(500, 6)"
      ]
     },
     "execution_count": 3,
     "metadata": {},
     "output_type": "execute_result"
    }
   ],
   "source": [
    "q_table = np.zeros([env.observation_space.n, env.action_space.n])\n",
    "q_table.shape"
   ]
  },
  {
   "cell_type": "markdown",
   "metadata": {},
   "source": [
    "### Código de Treinamentro"
   ]
  },
  {
   "cell_type": "code",
   "execution_count": 6,
   "metadata": {},
   "outputs": [
    {
     "name": "stdout",
     "output_type": "stream",
     "text": [
      "Episódio 0\n",
      "trinamento concluido\n",
      "CPU times: user 1.6 s, sys: 161 ms, total: 1.76 s\n",
      "Wall time: 1min 35s\n"
     ]
    }
   ],
   "source": [
    "%%time\n",
    "\n",
    "alpha = 0.1\n",
    "gamma = 0.6\n",
    "epsilon = 0.1\n",
    "\n",
    "for i in range(1):\n",
    "    state = env.reset()\n",
    "    estado = state[0]\n",
    "\n",
    "    penalidades , recompensa = 0, 0\n",
    "    done = False\n",
    "    while not done:\n",
    "        if random.uniform(0, 1) < epsilon:\n",
    "            acao = env.action_space.sample()\n",
    "        else:\n",
    "            acao = np.argmax(q_table[estado])\n",
    "        \n",
    "        proximo_estado, recompensa, done, *info = env.step(acao)\n",
    "        q_antigo = q_table[estado, acao]\n",
    "        proximo_maximo = np.max(q_table[proximo_estado])\n",
    "\n",
    "        q_novo = (1 - alpha) * q_antigo + alpha * (recompensa +  gamma * proximo_maximo)\n",
    "        q_table[estado, acao] = q_novo\n",
    "        \n",
    "        if recompensa == -10:\n",
    "            penalidades += 1\n",
    "\n",
    "        estado = proximo_estado\n",
    "\n",
    "        clear_output(wait=True)\n",
    "        print(env.render())\n",
    "        time.sleep(.1)\n",
    "\n",
    "    if i % 100 == 0:\n",
    "        clear_output(wait=True)\n",
    "        print(\"Episódio\", i)\n",
    "\n",
    "print(\"trinamento concluido\")"
   ]
  }
 ],
 "metadata": {
  "kernelspec": {
   "display_name": "Python 3.10.6 ('mentoria-lead-bqopYCSr-py3.10')",
   "language": "python",
   "name": "python3"
  },
  "language_info": {
   "codemirror_mode": {
    "name": "ipython",
    "version": 3
   },
   "file_extension": ".py",
   "mimetype": "text/x-python",
   "name": "python",
   "nbconvert_exporter": "python",
   "pygments_lexer": "ipython3",
   "version": "3.10.6"
  },
  "orig_nbformat": 4,
  "vscode": {
   "interpreter": {
    "hash": "5f63aefcf01ff4aef1c3360c6601baebbb15168efd077b0a5037f02c28701734"
   }
  }
 },
 "nbformat": 4,
 "nbformat_minor": 2
}
